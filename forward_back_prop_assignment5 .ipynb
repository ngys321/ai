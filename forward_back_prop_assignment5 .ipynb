{
  "nbformat": 4,
  "nbformat_minor": 0,
  "metadata": {
    "colab": {
      "name": "assignment5.ipynb",
      "provenance": []
    },
    "kernelspec": {
      "name": "python3",
      "display_name": "Python 3"
    },
    "language_info": {
      "name": "python"
    }
  },
  "cells": [
    {
      "cell_type": "code",
      "metadata": {
        "id": "cN1DiMwJo-P5"
      },
      "source": [
        "#forward propagation, back propagation 연습\n",
        "#덧셈노드, 곱셈노드, sigmoid노드 클래스 구현\n",
        "\n",
        "import numpy as np\n",
        "import matplotlib.pyplot as plt\n",
        "\n",
        "import torch\n",
        "import torch.nn as nn\n",
        "import torch.nn.functional as F\n",
        "from torchvision import transforms, datasets\n",
        "\n",
        "import math"
      ],
      "execution_count": 76,
      "outputs": []
    },
    {
      "cell_type": "code",
      "metadata": {
        "id": "L5aG1nTRpVDf"
      },
      "source": [
        ""
      ],
      "execution_count": 76,
      "outputs": []
    },
    {
      "cell_type": "code",
      "metadata": {
        "id": "NYSmXPx7pl36"
      },
      "source": [
        "#덧셈 노드 클래스\n",
        "class AddLayer:\n",
        "  def __init__(self):\n",
        "    pass\n",
        "  def forward(self, x, y):\n",
        "    out=x+y\n",
        "    return out\n",
        "  def backward(self, dout):\n",
        "    dx=dout*1\n",
        "    dy=dout*1\n",
        "    return dx, dy\n",
        "\n",
        "#곱셈 노드 클래스\n",
        "class MulLayer:\n",
        "  def __init__(self):\n",
        "    self.x=None\n",
        "    self.y=None\n",
        "  def forward(self,x,y):\n",
        "    self.x=x\n",
        "    self.y=y\n",
        "    out=x*y\n",
        "    return out\n",
        "  def backward(self,dout):\n",
        "    dx=dout*self.y\n",
        "    dy=dout*self.x\n",
        "    return dx,dy\n",
        "\n",
        "#sigmoid 노드 클래스\n",
        "class Sigmoid:\n",
        "  def __init__(self):\n",
        "    self.out=None\n",
        "  def forward(self,x):\n",
        "    out= 1/ (1+math.exp(-x))\n",
        "    self.out = out\n",
        "    return out\n",
        "  def backward(self, dout):\n",
        "    dx = dout*(1.0 - self.out)*self.out\n",
        "    return dx"
      ],
      "execution_count": 77,
      "outputs": []
    },
    {
      "cell_type": "code",
      "metadata": {
        "id": "fXvEg2D_wA-B"
      },
      "source": [
        "#주어진 값들\n",
        "x1=2.0\n",
        "x2=3.0\n",
        "w1=1.5\n",
        "w2=0.9\n",
        "b=1.0\n",
        "\n",
        "#계층들\n",
        "mul_x1_w1 = MulLayer()\n",
        "mul_x2_w2 = MulLayer()\n",
        "\n",
        "add_x1w1_x2w2 = AddLayer()\n",
        "add_x1w1x2w2_b = AddLayer()\n",
        "\n",
        "sig_x1w1x2w2b = Sigmoid()\n",
        "\n"
      ],
      "execution_count": 78,
      "outputs": []
    },
    {
      "cell_type": "code",
      "metadata": {
        "colab": {
          "base_uri": "https://localhost:8080/"
        },
        "id": "Pi4-dkL4xDbY",
        "outputId": "ae527f17-7e33-4ce3-abfb-6fa2aaddd638"
      },
      "source": [
        "#forward propagation\n",
        "i = mul_x1_w1.forward(w1,x1)\n",
        "j = mul_x2_w2.forward(w2,x2)\n",
        "k = add_x1w1_x2w2.forward(i, j)\n",
        "m = add_x1w1x2w2_b.forward(k, b)\n",
        "n = sig_x1w1x2w2b.forward(m)\n",
        "\n",
        "print(\"w1 = \",w1)\n",
        "print(\"x1 = \",x1)\n",
        "print(\"w2 = \",w2)\n",
        "print(\"x2 = \",x2)\n",
        "print(\"b = \",b)\n",
        "print()\n",
        "\n",
        "print(\"i = \",i)\n",
        "print(\"j = \",j)\n",
        "print()\n",
        "\n",
        "print(\"k = \",k)\n",
        "print()\n",
        "\n",
        "print(\"m = \",m)\n",
        "print()\n",
        "\n",
        "print(\"n = \",n)"
      ],
      "execution_count": 79,
      "outputs": [
        {
          "output_type": "stream",
          "name": "stdout",
          "text": [
            "w1 =  1.5\n",
            "x1 =  2.0\n",
            "w2 =  0.9\n",
            "x2 =  3.0\n",
            "b =  1.0\n",
            "\n",
            "i =  3.0\n",
            "j =  2.7\n",
            "\n",
            "k =  5.7\n",
            "\n",
            "m =  6.7\n",
            "\n",
            "n =  0.9987706013787226\n"
          ]
        }
      ]
    },
    {
      "cell_type": "code",
      "metadata": {
        "colab": {
          "base_uri": "https://localhost:8080/"
        },
        "id": "nLwYUdS5z28x",
        "outputId": "6a2fee36-25e5-40c8-d9fb-969bf33999a7"
      },
      "source": [
        "#back propagation\n",
        "dn = 1\n",
        "dm = sig_x1w1x2w2b.backward(dn)\n",
        "dk, db = add_x1w1x2w2_b.backward(dm)\n",
        "di, dj = add_x1w1_x2w2.backward(dk)\n",
        "dw1, dx1 = mul_x1_w1.backward(di)\n",
        "dw2, dx2 = mul_x2_w2.backward(dj)\n",
        "\n",
        "print(\"dn = \",dn)\n",
        "print()\n",
        "\n",
        "print(\"dm = \",dm)\n",
        "print()\n",
        "\n",
        "print(\"dk = \",dk)\n",
        "print(\"db = \",db)\n",
        "print()\n",
        "\n",
        "print(\"di = \",di)\n",
        "print(\"dj = \",dj)\n",
        "print()\n",
        "\n",
        "print(\"dw1 = \",dw1)\n",
        "print(\"dx1 = \",dx1)\n",
        "print(\"dw2 = \",dw2)\n",
        "print(\"dx2 = \",dx2)\n",
        "print()\n"
      ],
      "execution_count": 80,
      "outputs": [
        {
          "output_type": "stream",
          "name": "stdout",
          "text": [
            "dn =  1\n",
            "\n",
            "dm =  0.0012278872003073568\n",
            "\n",
            "dk =  0.0012278872003073568\n",
            "db =  0.0012278872003073568\n",
            "\n",
            "di =  0.0012278872003073568\n",
            "dj =  0.0012278872003073568\n",
            "\n",
            "dw1 =  0.0024557744006147137\n",
            "dx1 =  0.0018418308004610352\n",
            "dw2 =  0.0036836616009220703\n",
            "dx2 =  0.001105098480276621\n",
            "\n"
          ]
        }
      ]
    },
    {
      "cell_type": "code",
      "metadata": {
        "colab": {
          "base_uri": "https://localhost:8080/"
        },
        "id": "rfU7jSsV0o8_",
        "outputId": "9b3d1a00-fbe3-4dc0-f7f4-bf76c31d515f"
      },
      "source": [
        "#별도 계산 (비교용)\n",
        "print(0.99877*(1-0.99877))\n",
        "print()\n",
        "print(0.001228 * 2.0)\n",
        "print(0.001228 * 1.5)\n",
        "print(0.001228 * 3.0)\n",
        "print(0.001228 * 0.9)"
      ],
      "execution_count": 81,
      "outputs": [
        {
          "output_type": "stream",
          "name": "stdout",
          "text": [
            "0.0012284870999999535\n",
            "\n",
            "0.002456\n",
            "0.0018419999999999999\n",
            "0.0036839999999999998\n",
            "0.0011052\n"
          ]
        }
      ]
    },
    {
      "cell_type": "code",
      "metadata": {
        "colab": {
          "base_uri": "https://localhost:8080/"
        },
        "id": "v9Sk67rG1XOR",
        "outputId": "678d0c54-6a66-4ad7-99e6-9ec83cae4517"
      },
      "source": [
        "#경사하강법으로 w1 ,w2, b 값 한번 갱신\n",
        "#학습률(lr) = 0.1\n",
        "lr = 0.1\n",
        "\n",
        "print(\"w1,w2,b 갱신전\")\n",
        "print(\"w1 = \",w1)\n",
        "print(\"w2 = \",w2)\n",
        "print(\"b = \",b)\n",
        "print()\n",
        "\n",
        "w1 -= lr * dw1\n",
        "w2 -= lr * dw2\n",
        "b -= lr * db\n",
        "\n",
        "print(\"w1,w2,b 갱신후\")\n",
        "print(\"w1 = \",w1)\n",
        "print(\"w2 = \",w2)\n",
        "print(\"b = \",b)"
      ],
      "execution_count": 82,
      "outputs": [
        {
          "output_type": "stream",
          "name": "stdout",
          "text": [
            "w1,w2,b 갱신전\n",
            "w1 =  1.5\n",
            "w2 =  0.9\n",
            "b =  1.0\n",
            "\n",
            "w1,w2,b 갱신후\n",
            "w1 =  1.4997544225599386\n",
            "w2 =  0.8996316338399079\n",
            "b =  0.9998772112799693\n"
          ]
        }
      ]
    },
    {
      "cell_type": "code",
      "metadata": {
        "id": "lqgOJljdNw35"
      },
      "source": [
        ""
      ],
      "execution_count": 37,
      "outputs": []
    }
  ]
}