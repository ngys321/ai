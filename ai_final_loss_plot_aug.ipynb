{
  "nbformat": 4,
  "nbformat_minor": 0,
  "metadata": {
    "accelerator": "GPU",
    "colab": {
      "name": "ai_final_loss_plot_aug.ipynb",
      "provenance": [],
      "collapsed_sections": []
    },
    "kernelspec": {
      "display_name": "Python 3 (ipykernel)",
      "language": "python",
      "name": "python3"
    },
    "language_info": {
      "codemirror_mode": {
        "name": "ipython",
        "version": 3
      },
      "file_extension": ".py",
      "mimetype": "text/x-python",
      "name": "python",
      "nbconvert_exporter": "python",
      "pygments_lexer": "ipython3",
      "version": "3.8.10"
    }
  },
  "cells": [
    {
      "cell_type": "code",
      "metadata": {
        "colab": {
          "base_uri": "https://localhost:8080/"
        },
        "id": "5C9csU--qvdg",
        "outputId": "4249c6f6-2a06-411e-b003-615fd9aa467b"
      },
      "source": [
        "from google.colab import drive\n",
        "drive.mount('/content/drive')"
      ],
      "execution_count": 1,
      "outputs": [
        {
          "output_type": "stream",
          "name": "stdout",
          "text": [
            "Drive already mounted at /content/drive; to attempt to forcibly remount, call drive.mount(\"/content/drive\", force_remount=True).\n"
          ]
        }
      ]
    },
    {
      "cell_type": "code",
      "metadata": {
        "colab": {
          "base_uri": "https://localhost:8080/"
        },
        "id": "qCZ7dyCOa1k_",
        "outputId": "7c893596-219a-4ca5-cfdc-6a93bbfe9ab1"
      },
      "source": [
        "!pip install timm"
      ],
      "execution_count": 2,
      "outputs": [
        {
          "output_type": "stream",
          "name": "stdout",
          "text": [
            "Requirement already satisfied: timm in /usr/local/lib/python3.7/dist-packages (0.4.12)\n",
            "Requirement already satisfied: torchvision in /usr/local/lib/python3.7/dist-packages (from timm) (0.11.1+cu111)\n",
            "Requirement already satisfied: torch>=1.4 in /usr/local/lib/python3.7/dist-packages (from timm) (1.10.0+cu111)\n",
            "Requirement already satisfied: typing-extensions in /usr/local/lib/python3.7/dist-packages (from torch>=1.4->timm) (3.10.0.2)\n",
            "Requirement already satisfied: pillow!=8.3.0,>=5.3.0 in /usr/local/lib/python3.7/dist-packages (from torchvision->timm) (7.1.2)\n",
            "Requirement already satisfied: numpy in /usr/local/lib/python3.7/dist-packages (from torchvision->timm) (1.19.5)\n"
          ]
        }
      ]
    },
    {
      "cell_type": "code",
      "metadata": {
        "id": "lXHTAvOINTaY"
      },
      "source": [
        "import sys\n",
        "sys.path.append('drive/MyDrive/ai/final/petfinder-pawpularity-score')\n",
        "### <디렉토리 설정하는 곳> (검색용) ################################################################################################\n",
        "### 지금 위의 코드는\n",
        "### 이 코드파일(ai_final_loss_plot.ipynb)과 함께 다른 데이터셋 관련파일들(test, train, sample_submission.csv, test.csv, train.csv)을 \n",
        "### 구글드라이브 안의 /ai/final/petfinder-pawpularity-score 디렉토리에 넣어줘야, 코드가 돌아가도록 되어있다.\n",
        "###\n",
        "### 위에서 말한 코드파일과 데이터셋 관련 파일들의 위치를 바꾸고 싶으면, \n",
        "### 위의 sys.path.append() 안의 인자를 'drive/MyDrive/(구글 드라이브 내의 디렉토리 주소)' 로 바꿔주면 된다.\n",
        "####################################################################################################################################"
      ],
      "execution_count": 3,
      "outputs": []
    },
    {
      "cell_type": "code",
      "metadata": {
        "id": "RKfM4Oi9Nvgl"
      },
      "source": [
        "import numpy as np\n",
        "import pandas as pd\n",
        "import matplotlib.pyplot as plt\n",
        "import seaborn as sns\n",
        "import os\n",
        "import torch\n",
        "\n",
        "import cv2\n",
        "from os import path\n",
        "from PIL import Image\n",
        "import torch.utils.data as data\n",
        "from torchvision import models, transforms\n",
        "import torch.nn as nn\n",
        "from tqdm import tqdm\n",
        "import torch.nn.functional as F\n",
        "import h5py\n",
        "import timm\n",
        "import shutil\n",
        "\n",
        "from sklearn import metrics\n",
        "from sklearn.metrics import mean_squared_error\n",
        "from sklearn.metrics import median_absolute_error\n",
        "from sklearn.metrics import mean_squared_log_error\n",
        "from sklearn.metrics import mean_absolute_error\n",
        "from sklearn.metrics import r2_score\n",
        "from sklearn.metrics import explained_variance_score\n",
        "from scipy.stats import pearsonr"
      ],
      "execution_count": 4,
      "outputs": []
    },
    {
      "cell_type": "code",
      "metadata": {
        "colab": {
          "base_uri": "https://localhost:8080/"
        },
        "id": "HCOUGUmnOxJD",
        "outputId": "29ed0491-e5f4-48d2-d344-42ce280d9419"
      },
      "source": [
        "class args:\n",
        "### <배치크기, 에폭수 설정하는 곳 (검색용)> ######################\n",
        "### 지금은 batch_size 값 32, 에폭수 10으로 되어있다. \n",
        "##################################################################\n",
        "\n",
        "    seed = 22\n",
        "    batch_size = 64\n",
        "    epochs = 5\n",
        "    image_size = 384  # scale shorter end of image to this size and centre crop\n",
        "    central_fraction = 0.875  # only take this much of the centre when scaling and centre cropping\n",
        "    load_img = False # whether load img or not\n",
        "    workers = 2\n",
        "    feature_extract = True\n",
        "\n",
        "def seed_torch(seed):\n",
        "    os.environ['PYTHONHASHSEED'] = str(seed)\n",
        "    np.random.seed(seed)\n",
        "    torch.manual_seed(seed)\n",
        "    torch.cuda.manual_seed(seed)\n",
        "    torch.backends.cudnn.deterministic = True\n",
        "    print(\"seed: \", seed)\n",
        "\n",
        "seed_torch(args.seed)"
      ],
      "execution_count": 5,
      "outputs": [
        {
          "output_type": "stream",
          "name": "stdout",
          "text": [
            "seed:  22\n"
          ]
        }
      ]
    },
    {
      "cell_type": "code",
      "metadata": {
        "id": "mDZnN_e9HEfZ"
      },
      "source": [
        "def makedirs(path): \n",
        "  if os.path.exists(path):\n",
        "    shutil.rmtree(path)\n",
        "  try: \n",
        "    os.makedirs(path) \n",
        "  except OSError: \n",
        "    if not os.path.isdir(path): \n",
        "      raise"
      ],
      "execution_count": 6,
      "outputs": []
    },
    {
      "cell_type": "code",
      "metadata": {
        "id": "tbKoHmYQPA-C"
      },
      "source": [
        "dir_path = 'drive/MyDrive/ai/final/petfinder-pawpularity-score'\n",
        "### <디렉토리 설정하는 곳> (검색용) ################################################################################################\n",
        "### 지금 위의 코드는\n",
        "### 이 코드파일(ai_final_loss_plot.ipynb)과 함께 다른 데이터셋 관련파일들(test, train, sample_submission.csv, test.csv, train.csv)을 \n",
        "### 구글드라이브 안의 /ai/final/petfinder-pawpularity-score 디렉토리에 넣어줘야, 코드가 돌아가도록 되어있다.\n",
        "###\n",
        "### 위에서 말한 코드파일과 데이터셋 관련 파일들의 위치를 바꾸고 싶으면, \n",
        "### 위의 sys.path.append() 안의 인자를 'drive/MyDrive/(구글 드라이브 내의 디렉토리 주소)' 로 바꿔주면 된다.\n",
        "####################################################################################################################################\n",
        "\n",
        "cached_dir = path.join(dir_path, 'cached_data')\n",
        "train_img_dir = path.join(dir_path, 'train')\n",
        "test_img_dir = path.join(dir_path, 'test')\n",
        "aug_img_dir = path.join(dir_path, 'train_aug')\n",
        "\n",
        "df_train = pd.read_csv(path.join(dir_path, 'train.csv'))\n",
        "df_test = pd.read_csv(path.join(dir_path, 'test.csv'))\n",
        "\n",
        "train_img_paths = [path.join(train_img_dir, f\"{img_id}.jpg\") for img_id in df_train[\"Id\"].values]\n",
        "test_img_paths = [path.join(test_img_dir, f\"{img_id}.jpg\") for img_id in df_test[\"Id\"].values]\n",
        "\n",
        "# 경로에 파일 없으면 생성 있으면 지우고 재생성 \n",
        "makedirs(aug_img_dir)"
      ],
      "execution_count": 7,
      "outputs": []
    },
    {
      "cell_type": "code",
      "metadata": {
        "colab": {
          "base_uri": "https://localhost:8080/"
        },
        "id": "4T-t9EkFPWZj",
        "outputId": "8b8b520c-b0c3-43be-a8e0-f3d4b4585d74"
      },
      "source": [
        "property_names = [col for col in df_train.columns if col not in ['Id','Pawpularity']]\n",
        "property_names # 12 properties\n",
        "\n",
        "# train metda data\n",
        "train_meta_X = df_train[property_names]\n",
        "train_Y = df_train['Pawpularity']\n",
        "\n",
        "# test metda data\n",
        "test_id = df_test['Id']\n",
        "test_meta_X = df_test.drop('Id',axis=1)\n",
        "test_meta_X.shape"
      ],
      "execution_count": 8,
      "outputs": [
        {
          "output_type": "execute_result",
          "data": {
            "text/plain": [
              "(8, 12)"
            ]
          },
          "metadata": {},
          "execution_count": 8
        }
      ]
    },
    {
      "cell_type": "code",
      "metadata": {
        "id": "m7JZLbLmPu7J"
      },
      "source": [
        "class PawpularDataset(data.Dataset):\n",
        "    def __init__(self, image_data, meta_features, labels, img_paths, augmentations=None):\n",
        "        super(PawpularDataset, self).__init__()\n",
        "        self.load_img = False\n",
        "        self.image_data = image_data\n",
        "        self.meta_features = meta_features\n",
        "        self.labels = labels\n",
        "        self.augmentations = augmentations\n",
        "        self.image_paths = img_paths\n",
        "        if self.augmentations is not None:\n",
        "            self.load_img = True\n",
        "\n",
        "\n",
        "    def __getitem__(self, item):\n",
        "        if self.load_img:\n",
        "            image = cv2.imread(self.image_paths[item])\n",
        "            image = cv2.cvtColor(image, cv2.COLOR_BGR2RGB)\n",
        "            \n",
        "            augmented = self.augmentations(image=image)[\"image\"]\n",
        "            \n",
        "            #augmentation 저장\n",
        "            save_aug(augmented,item)\n",
        "\n",
        "            image = np.transpose(augmented, (2, 0, 1)).astype(np.float32)\n",
        "        else:\n",
        "            image = self.image_data[item]\n",
        "\n",
        "        meta = self.meta_features[item]\n",
        "        label = self.labels[item]\n",
        "        return image.astype('float32'), meta.astype('float32'), label\n",
        "\n",
        "    def __len__(self):\n",
        "        return len(self.labels)\n",
        "\n",
        "def save_aug(image, item):\n",
        "    global aug_img_dir\n",
        "    \"\"\"\n",
        "    Function to Plot the Transformed Images\n",
        "    \"\"\"\n",
        "    #print(label)\n",
        "    image = cv2.cvtColor(image, cv2.COLOR_RGB2BGR)\n",
        "\n",
        "    path = aug_img_dir+ \"/\" +str(item)+\".jpg\" \n",
        "    # print(path)\n",
        "    cv2.imwrite(path, image)\n",
        "    #Unnormalize\n",
        "    # plt.imshow(image)\n",
        "    # plt.show()\n",
        "\n",
        "def get_loader(split, features, meta_data, labels, img_paths=[], batch_size=args.batch_size, augmentations=None):\n",
        "    \"\"\" Returns a data loader for the desired split \"\"\"\n",
        "    dataset = PawpularDataset(features, meta_data, labels, img_paths, augmentations)\n",
        "    loader = torch.utils.data.DataLoader(\n",
        "        dataset,\n",
        "        batch_size=batch_size,\n",
        "        shuffle=True if split != 'test' else False,  # only shuffle the data in training\n",
        "        pin_memory=True,\n",
        "        num_workers=args.workers,\n",
        "    )\n",
        "    return loader"
      ],
      "execution_count": 9,
      "outputs": []
    },
    {
      "cell_type": "code",
      "metadata": {
        "id": "R5YxTauMPzUj"
      },
      "source": [
        "import albumentations\n",
        "\n",
        "def get_augmentations(train=True):\n",
        "    if train:\n",
        "        return albumentations.Compose(\n",
        "            [\n",
        "                ## 크기조절\n",
        "                albumentations.Resize(args.image_size, args.image_size, p=1),\n",
        "                ## 좌우 반전\n",
        "                albumentations.HorizontalFlip(p=0.5),\n",
        "                ## 상하 반전\n",
        "                ##albumentations.VerticalFlip(p=0.5),\n",
        "                ## 회전\n",
        "                albumentations.Rotate(limit=45, p=0.7),\n",
        "            ]\n",
        "        )\n",
        "    else:\n",
        "        return albumentations.Compose(\n",
        "            [\n",
        "                albumentations.Resize(args.image_size, args.image_size, p=1),\n",
        "#                 albumentations.Normalize(\n",
        "#                     mean=[0.485, 0.456, 0.406],\n",
        "#                     std=[0.229, 0.224, 0.225],\n",
        "#                     max_pixel_value=255.0,\n",
        "#                     p=1.0,\n",
        "#                 ),\n",
        "            ]\n",
        "        )\n",
        "\n",
        "augmentations = get_augmentations(train=True)\n",
        "trainval_loader = get_loader('trainval', None, train_meta_X.values, train_Y.values.astype('float32'), train_img_paths,augmentations=augmentations)\n",
        "\n",
        "augmentations = get_augmentations(train=False)\n",
        "test_loader = get_loader('test', None, test_meta_X.values, torch.zeros(len(test_img_paths)), test_img_paths, augmentations=augmentations)"
      ],
      "execution_count": 10,
      "outputs": []
    },
    {
      "cell_type": "code",
      "metadata": {
        "id": "LOqmF0uoP9uS"
      },
      "source": [
        "def set_parameter_requires_grad(model, feature_extracting):\n",
        "    if feature_extracting:\n",
        "        for param in model.parameters():\n",
        "            param.requires_grad = False\n",
        "\n",
        "### <인공지능 모델 아키텍처 설정하는 곳> (검색용) ################################################################################################\n",
        "### 아래에는 다음과 같은 모델 아키텍처를 정의하는 class 코드가 있음.\n",
        "### \n",
        "### PretrainedCNN         - 이미 학습되어있는 \"resnet\" 모델을 불러오고, 마지막 layer에 metadata를 input data로 넣어주도록 고쳐준 모델\n",
        "### BaseCNN               - CNN 을 활용한 모델, 마지막 layer에 metadata를 input data로 넣어주도록 고쳐준 모델\n",
        "### BaseMLP               - MLP 를 활용한 모델, 마지막 layer에 metadata를 input data로 넣어주도록 고쳐준 모델\n",
        "### PretrainedTransformer - 이미 학습되어있는 다양한 모델들 중 하나를 불러오고, 마지막 layer에 metadata를 input data로 넣어주도록 고쳐준 모델\n",
        "###\n",
        "### 이 아래에 class 중에서 직접 수정해보면 좋은 것은, BaseCNN , BaseMLP class 부분임.\n",
        "### BaseCNN 은 CNN 실습했을때처럼 수정하면 될 듯\n",
        "### BaseMLP 는 MLP 실습했을때처럼 수정하면 될 듯\n",
        "###\n",
        "### 한편, PretrainedTransformer class 를 활용해도 좋음. 이미 학습되어있는 모델을 불러와서 코드를 돌려볼 수 있음. 자세한 내용은 아래 <모델 고르기> 부분에서 설명함.\n",
        "####################################################################################################################################\n",
        "\n",
        "\n",
        "\n",
        "class PretrainedCNN(nn.Module):\n",
        "    def __init__(self, model_name='resnet', use_meta=False):\n",
        "        super(PretrainedCNN, self).__init__()\n",
        "        if model_name == 'resnet':\n",
        "            self.model = models.resnet152(pretrained=True)\n",
        "            set_parameter_requires_grad(self.model, feature_extracting=True)\n",
        "            num_ftrs = self.model.fc.in_features\n",
        "        self.model.fc = nn.Linear(num_ftrs, 128)\n",
        "        self.drop = nn.Dropout(0.5)\n",
        "        self.use_meta =use_meta\n",
        "        if self.use_meta:\n",
        "            self.fc = nn.Linear(128+12, 1)\n",
        "        else:\n",
        "            self.fc = nn.Linear(128, 1)\n",
        "        \n",
        "\n",
        "    def forward(self, img_data, meta=None, targets=None):\n",
        "        x = self.model(img_data)\n",
        "        if self.use_meta:\n",
        "            x = torch.cat([x, meta], dim=1)\n",
        "        x = self.fc(self.drop(x)) # [b, o]\n",
        "        return x\n",
        "\n",
        "\n",
        "\n",
        "class BaseCNN(nn.Module):\n",
        "    def __init__(self, num_filters=[], use_meta=False):\n",
        "        super(BaseCNN, self).__init__()\n",
        "        self.conv = nn.Sequential(\n",
        "            nn.Conv2d(3, num_filters[0], kernel_size = 3, padding = 1),\n",
        "            nn.ReLU(),\n",
        "            nn.MaxPool2d(2,2),\n",
        "            nn.Conv2d(num_filters[0], num_filters[1], kernel_size = 4, stride = 1, padding = 1),\n",
        "            nn.ReLU(),\n",
        "            nn.MaxPool2d(2,2),\n",
        "        \n",
        "            nn.Conv2d(num_filters[1], num_filters[2], kernel_size = 5, stride = 1, padding = 1),\n",
        "            nn.ReLU(),\n",
        "            nn.MaxPool2d(2,2),\n",
        "            nn.Conv2d(num_filters[2] ,num_filters[3], kernel_size = 8, stride = 1, padding = 1),\n",
        "            nn.ReLU(),\n",
        "            nn.MaxPool2d(2,2),\n",
        "            \n",
        "            nn.Conv2d(num_filters[3], num_filters[4], kernel_size = 6, stride = 1, padding = 1),\n",
        "            nn.ReLU(),\n",
        "            nn.Conv2d(num_filters[4], num_filters[4], kernel_size = 6, stride = 1, padding = 1),\n",
        "            nn.ReLU(),\n",
        "            nn.MaxPool2d(2,2),\n",
        "\n",
        "            nn.Flatten(),\n",
        "            nn.Linear(12544, 1024),\n",
        "            nn.ReLU(),\n",
        "            nn.Linear(1024, 512),\n",
        "            nn.ReLU(),\n",
        "            nn.Linear(512,128)\n",
        "        )\n",
        "        # fc\n",
        "        self.use_meta = use_meta\n",
        "        self.drop = nn.Dropout(0.5)\n",
        "        if self.use_meta:\n",
        "            self.fc = nn.Linear(128+12, 1)\n",
        "        else:\n",
        "            self.fc = nn.Linear(128, 1)\n",
        "\n",
        "\n",
        "    def forward(self, img_data, meta=None, targets=None):\n",
        "        o = self.conv(self.drop(img_data)) # [b, 1, m]\n",
        "        if self.use_meta:\n",
        "            o = torch.cat([o, meta], dim=1)\n",
        "        x = self.fc(self.drop(o)) # [b, o]\n",
        "        return x\n",
        "\n",
        "\n",
        "class BaseMLP(nn.Module):\n",
        "    def __init__(self, use_meta=False, input_size=args.image_size):\n",
        "        super(BaseMLP, self).__init__()\n",
        "        # fc\n",
        "        self.use_meta = use_meta\n",
        "        self.drop = nn.Dropout(0.5)\n",
        "        self.lin = nn.Sequential(\n",
        "            nn.Linear(input_size*input_size, 2048),\n",
        "            nn.ReLU(),\n",
        "            nn.BatchNorm1d(3),\n",
        "            nn.Dropout(0.5),\n",
        "            nn.Linear(2048, 512),\n",
        "            nn.ReLU(),\n",
        "            nn.BatchNorm1d(3),\n",
        "            nn.Dropout(0.5),\n",
        "            nn.Linear(512,128)\n",
        "        )\n",
        "        if self.use_meta:\n",
        "            self.fc = nn.Linear((128*3)+12, 1)\n",
        "        else:\n",
        "            self.fc = nn.Linear(128*3, 1)\n",
        "\n",
        "\n",
        "    def forward(self, img_data, meta=None, targets=None):\n",
        "        b, c, img_size, _ = img_data.shape\n",
        "        img_data = img_data.view(b, c, img_size*img_size)\n",
        "        o = self.lin(self.drop(img_data)) # [b, 3, 128]\n",
        "        o = o.view(b, -1)\n",
        "        if self.use_meta:\n",
        "            o = torch.cat([o, meta], dim=1)\n",
        "        x = self.fc(self.drop(o)) # [b, o]\n",
        "        return x\n",
        "\n",
        "\n",
        "class PretrainedTransformer(nn.Module):\n",
        "    def __init__(self, model_name='', use_meta=False, pretrained=True):\n",
        "        super(PretrainedTransformer, self).__init__()\n",
        "        # fc\n",
        "        self.use_meta = use_meta\n",
        "        self.drop = nn.Dropout(0.5)\n",
        "        self.model = timm.create_model(model_name, pretrained=pretrained, num_classes=0, in_chans=3)\n",
        "        set_parameter_requires_grad(self.model, feature_extracting=True)\n",
        "        num_features = self.model.num_features\n",
        "\n",
        "        if self.use_meta:\n",
        "            self.fc = nn.Linear(num_features+12, 1)\n",
        "        else:\n",
        "            self.fc = nn.Linear(num_features, 1)\n",
        "\n",
        "\n",
        "    def forward(self, img_data, meta=None, targets=None):\n",
        "        x = self.model(img_data)\n",
        "        if self.use_meta:\n",
        "            x = torch.cat([x, meta], dim=1)\n",
        "        x = self.fc(self.drop(x)) # [b, o]\n",
        "        return x\n",
        "\n",
        "\n",
        "\n",
        "\n",
        "torch.backends.cudnn.enabled = True\n",
        "torch.backends.cudnn.benchmark = True"
      ],
      "execution_count": 11,
      "outputs": []
    },
    {
      "cell_type": "code",
      "metadata": {
        "id": "4Bm663fSQCCk"
      },
      "source": [
        "import matplotlib.pyplot as plt ##5\n",
        "test_loss_record = [] ##5\n",
        "mse = nn.MSELoss()  ##\n",
        "\n",
        "\n",
        "def train(model, optimizer, train_loader, val_loader, train=True, val=False, epoch=0, grad_clip=False):\n",
        "    labels, preds = [], []\n",
        "    if train:\n",
        "        #mse = nn.MSELoss() -> 이건 밖으로 빼서 전역변수로 만들었음 ##\n",
        "        train_loader = tqdm(train_loader, desc='{} E{:03d}'.format('train', epoch), ncols=0)\n",
        "        model.train()\n",
        "        for i, (img, meta_feature, label) in enumerate(train_loader):\n",
        "            img = img.cuda().float()\n",
        "            meta_feature = meta_feature.cuda()\n",
        "            label = label.cuda()\n",
        "            pred = model(img, meta_feature, label)\n",
        "\n",
        "            # loss = criterion(pred , label.view(-1,1))\n",
        "            loss = mse(pred, label.view(-1, 1))\n",
        "\n",
        "            loss.backward()\n",
        "            if grad_clip:\n",
        "                nn.utils.clip_grad_norm_(model.parameters(), 0.5)\n",
        "            optimizer.step()\n",
        "            optimizer.zero_grad()\n",
        "\n",
        "            num = 10\n",
        "            if i % num == 0:\n",
        "                rmse_loss = pow(loss.item() , 0.5)\n",
        "                print(\"\\tTrain Epoch:{} \\tTrain Loss(RMSE): {:.6f}\".format(epoch, rmse_loss)) ##\n",
        "                test_loss_record.append(rmse_loss)\n",
        "    \n",
        "    if val:\n",
        "        model.eval()\n",
        "        val_loader = tqdm(val_loader, desc='{} E{:03d}'.format('val', epoch), ncols=0)\n",
        "        for i, (img, meta_feature, label) in enumerate(val_loader):\n",
        "            img = img.cuda().float()\n",
        "            pred = model(img, meta_feature, None)\n",
        "\n",
        "            labels.append(label.detach().cpu())\n",
        "            preds.append(pred.detach().cpu())\n",
        "\n",
        "        labels = torch.cat(labels, dim=0).numpy() # [num_seg]\n",
        "        preds = torch.cat(preds, dim=0).numpy() # [num_seg]\n",
        "\n",
        "    return labels, preds"
      ],
      "execution_count": 12,
      "outputs": []
    },
    {
      "cell_type": "code",
      "metadata": {
        "colab": {
          "base_uri": "https://localhost:8080/"
        },
        "id": "5TquLlHZydEl",
        "outputId": "d5f74124-2c77-48b4-9cb7-7a3841b5ccd9"
      },
      "source": [
        "### <학습된 모델 확인하기> (검색용) ######################\n",
        "### 사용할 수 있는 이미 학습된 모델들을 아래 출력해줌\n",
        "############################################################\n",
        "timm.list_models()[:]"
      ],
      "execution_count": 13,
      "outputs": [
        {
          "output_type": "execute_result",
          "data": {
            "text/plain": [
              "['adv_inception_v3',\n",
              " 'bat_resnext26ts',\n",
              " 'botnet26t_256',\n",
              " 'botnet50ts_256',\n",
              " 'cait_m36_384',\n",
              " 'cait_m48_448',\n",
              " 'cait_s24_224',\n",
              " 'cait_s24_384',\n",
              " 'cait_s36_384',\n",
              " 'cait_xs24_384',\n",
              " 'cait_xxs24_224',\n",
              " 'cait_xxs24_384',\n",
              " 'cait_xxs36_224',\n",
              " 'cait_xxs36_384',\n",
              " 'coat_lite_mini',\n",
              " 'coat_lite_small',\n",
              " 'coat_lite_tiny',\n",
              " 'coat_mini',\n",
              " 'coat_tiny',\n",
              " 'convit_base',\n",
              " 'convit_small',\n",
              " 'convit_tiny',\n",
              " 'cspdarknet53',\n",
              " 'cspdarknet53_iabn',\n",
              " 'cspresnet50',\n",
              " 'cspresnet50d',\n",
              " 'cspresnet50w',\n",
              " 'cspresnext50',\n",
              " 'cspresnext50_iabn',\n",
              " 'darknet53',\n",
              " 'deit_base_distilled_patch16_224',\n",
              " 'deit_base_distilled_patch16_384',\n",
              " 'deit_base_patch16_224',\n",
              " 'deit_base_patch16_384',\n",
              " 'deit_small_distilled_patch16_224',\n",
              " 'deit_small_patch16_224',\n",
              " 'deit_tiny_distilled_patch16_224',\n",
              " 'deit_tiny_patch16_224',\n",
              " 'densenet121',\n",
              " 'densenet121d',\n",
              " 'densenet161',\n",
              " 'densenet169',\n",
              " 'densenet201',\n",
              " 'densenet264',\n",
              " 'densenet264d_iabn',\n",
              " 'densenetblur121d',\n",
              " 'dla34',\n",
              " 'dla46_c',\n",
              " 'dla46x_c',\n",
              " 'dla60',\n",
              " 'dla60_res2net',\n",
              " 'dla60_res2next',\n",
              " 'dla60x',\n",
              " 'dla60x_c',\n",
              " 'dla102',\n",
              " 'dla102x',\n",
              " 'dla102x2',\n",
              " 'dla169',\n",
              " 'dm_nfnet_f0',\n",
              " 'dm_nfnet_f1',\n",
              " 'dm_nfnet_f2',\n",
              " 'dm_nfnet_f3',\n",
              " 'dm_nfnet_f4',\n",
              " 'dm_nfnet_f5',\n",
              " 'dm_nfnet_f6',\n",
              " 'dpn68',\n",
              " 'dpn68b',\n",
              " 'dpn92',\n",
              " 'dpn98',\n",
              " 'dpn107',\n",
              " 'dpn131',\n",
              " 'eca_botnext26ts_256',\n",
              " 'eca_efficientnet_b0',\n",
              " 'eca_halonext26ts',\n",
              " 'eca_lambda_resnext26ts',\n",
              " 'eca_nfnet_l0',\n",
              " 'eca_nfnet_l1',\n",
              " 'eca_nfnet_l2',\n",
              " 'eca_nfnet_l3',\n",
              " 'eca_swinnext26ts_256',\n",
              " 'eca_vovnet39b',\n",
              " 'ecaresnet26t',\n",
              " 'ecaresnet50d',\n",
              " 'ecaresnet50d_pruned',\n",
              " 'ecaresnet50t',\n",
              " 'ecaresnet101d',\n",
              " 'ecaresnet101d_pruned',\n",
              " 'ecaresnet200d',\n",
              " 'ecaresnet269d',\n",
              " 'ecaresnetlight',\n",
              " 'ecaresnext26t_32x4d',\n",
              " 'ecaresnext50t_32x4d',\n",
              " 'efficientnet_b0',\n",
              " 'efficientnet_b1',\n",
              " 'efficientnet_b1_pruned',\n",
              " 'efficientnet_b2',\n",
              " 'efficientnet_b2_pruned',\n",
              " 'efficientnet_b2a',\n",
              " 'efficientnet_b3',\n",
              " 'efficientnet_b3_pruned',\n",
              " 'efficientnet_b3a',\n",
              " 'efficientnet_b4',\n",
              " 'efficientnet_b5',\n",
              " 'efficientnet_b6',\n",
              " 'efficientnet_b7',\n",
              " 'efficientnet_b8',\n",
              " 'efficientnet_cc_b0_4e',\n",
              " 'efficientnet_cc_b0_8e',\n",
              " 'efficientnet_cc_b1_8e',\n",
              " 'efficientnet_el',\n",
              " 'efficientnet_el_pruned',\n",
              " 'efficientnet_em',\n",
              " 'efficientnet_es',\n",
              " 'efficientnet_es_pruned',\n",
              " 'efficientnet_l2',\n",
              " 'efficientnet_lite0',\n",
              " 'efficientnet_lite1',\n",
              " 'efficientnet_lite2',\n",
              " 'efficientnet_lite3',\n",
              " 'efficientnet_lite4',\n",
              " 'efficientnetv2_l',\n",
              " 'efficientnetv2_m',\n",
              " 'efficientnetv2_rw_m',\n",
              " 'efficientnetv2_rw_s',\n",
              " 'efficientnetv2_s',\n",
              " 'ens_adv_inception_resnet_v2',\n",
              " 'ese_vovnet19b_dw',\n",
              " 'ese_vovnet19b_slim',\n",
              " 'ese_vovnet19b_slim_dw',\n",
              " 'ese_vovnet39b',\n",
              " 'ese_vovnet39b_evos',\n",
              " 'ese_vovnet57b',\n",
              " 'ese_vovnet99b',\n",
              " 'ese_vovnet99b_iabn',\n",
              " 'fbnetc_100',\n",
              " 'fbnetv3_b',\n",
              " 'fbnetv3_d',\n",
              " 'fbnetv3_g',\n",
              " 'gc_efficientnet_b0',\n",
              " 'gcresnet50t',\n",
              " 'gcresnext26ts',\n",
              " 'geresnet50t',\n",
              " 'gernet_l',\n",
              " 'gernet_m',\n",
              " 'gernet_s',\n",
              " 'ghostnet_050',\n",
              " 'ghostnet_100',\n",
              " 'ghostnet_130',\n",
              " 'gluon_inception_v3',\n",
              " 'gluon_resnet18_v1b',\n",
              " 'gluon_resnet34_v1b',\n",
              " 'gluon_resnet50_v1b',\n",
              " 'gluon_resnet50_v1c',\n",
              " 'gluon_resnet50_v1d',\n",
              " 'gluon_resnet50_v1s',\n",
              " 'gluon_resnet101_v1b',\n",
              " 'gluon_resnet101_v1c',\n",
              " 'gluon_resnet101_v1d',\n",
              " 'gluon_resnet101_v1s',\n",
              " 'gluon_resnet152_v1b',\n",
              " 'gluon_resnet152_v1c',\n",
              " 'gluon_resnet152_v1d',\n",
              " 'gluon_resnet152_v1s',\n",
              " 'gluon_resnext50_32x4d',\n",
              " 'gluon_resnext101_32x4d',\n",
              " 'gluon_resnext101_64x4d',\n",
              " 'gluon_senet154',\n",
              " 'gluon_seresnext50_32x4d',\n",
              " 'gluon_seresnext101_32x4d',\n",
              " 'gluon_seresnext101_64x4d',\n",
              " 'gluon_xception65',\n",
              " 'gmixer_12_224',\n",
              " 'gmixer_24_224',\n",
              " 'gmlp_b16_224',\n",
              " 'gmlp_s16_224',\n",
              " 'gmlp_ti16_224',\n",
              " 'halonet26t',\n",
              " 'halonet50ts',\n",
              " 'halonet_h1',\n",
              " 'halonet_h1_c4c5',\n",
              " 'hardcorenas_a',\n",
              " 'hardcorenas_b',\n",
              " 'hardcorenas_c',\n",
              " 'hardcorenas_d',\n",
              " 'hardcorenas_e',\n",
              " 'hardcorenas_f',\n",
              " 'hrnet_w18',\n",
              " 'hrnet_w18_small',\n",
              " 'hrnet_w18_small_v2',\n",
              " 'hrnet_w30',\n",
              " 'hrnet_w32',\n",
              " 'hrnet_w40',\n",
              " 'hrnet_w44',\n",
              " 'hrnet_w48',\n",
              " 'hrnet_w64',\n",
              " 'ig_resnext101_32x8d',\n",
              " 'ig_resnext101_32x16d',\n",
              " 'ig_resnext101_32x32d',\n",
              " 'ig_resnext101_32x48d',\n",
              " 'inception_resnet_v2',\n",
              " 'inception_v3',\n",
              " 'inception_v4',\n",
              " 'lambda_resnet26t',\n",
              " 'lambda_resnet50t',\n",
              " 'legacy_senet154',\n",
              " 'legacy_seresnet18',\n",
              " 'legacy_seresnet34',\n",
              " 'legacy_seresnet50',\n",
              " 'legacy_seresnet101',\n",
              " 'legacy_seresnet152',\n",
              " 'legacy_seresnext26_32x4d',\n",
              " 'legacy_seresnext50_32x4d',\n",
              " 'legacy_seresnext101_32x4d',\n",
              " 'levit_128',\n",
              " 'levit_128s',\n",
              " 'levit_192',\n",
              " 'levit_256',\n",
              " 'levit_384',\n",
              " 'mixer_b16_224',\n",
              " 'mixer_b16_224_in21k',\n",
              " 'mixer_b16_224_miil',\n",
              " 'mixer_b16_224_miil_in21k',\n",
              " 'mixer_b32_224',\n",
              " 'mixer_l16_224',\n",
              " 'mixer_l16_224_in21k',\n",
              " 'mixer_l32_224',\n",
              " 'mixer_s16_224',\n",
              " 'mixer_s32_224',\n",
              " 'mixnet_l',\n",
              " 'mixnet_m',\n",
              " 'mixnet_s',\n",
              " 'mixnet_xl',\n",
              " 'mixnet_xxl',\n",
              " 'mnasnet_050',\n",
              " 'mnasnet_075',\n",
              " 'mnasnet_100',\n",
              " 'mnasnet_140',\n",
              " 'mnasnet_a1',\n",
              " 'mnasnet_b1',\n",
              " 'mnasnet_small',\n",
              " 'mobilenetv2_100',\n",
              " 'mobilenetv2_110d',\n",
              " 'mobilenetv2_120d',\n",
              " 'mobilenetv2_140',\n",
              " 'mobilenetv3_large_075',\n",
              " 'mobilenetv3_large_100',\n",
              " 'mobilenetv3_large_100_miil',\n",
              " 'mobilenetv3_large_100_miil_in21k',\n",
              " 'mobilenetv3_rw',\n",
              " 'mobilenetv3_small_075',\n",
              " 'mobilenetv3_small_100',\n",
              " 'nasnetalarge',\n",
              " 'nf_ecaresnet26',\n",
              " 'nf_ecaresnet50',\n",
              " 'nf_ecaresnet101',\n",
              " 'nf_regnet_b0',\n",
              " 'nf_regnet_b1',\n",
              " 'nf_regnet_b2',\n",
              " 'nf_regnet_b3',\n",
              " 'nf_regnet_b4',\n",
              " 'nf_regnet_b5',\n",
              " 'nf_resnet26',\n",
              " 'nf_resnet50',\n",
              " 'nf_resnet101',\n",
              " 'nf_seresnet26',\n",
              " 'nf_seresnet50',\n",
              " 'nf_seresnet101',\n",
              " 'nfnet_f0',\n",
              " 'nfnet_f0s',\n",
              " 'nfnet_f1',\n",
              " 'nfnet_f1s',\n",
              " 'nfnet_f2',\n",
              " 'nfnet_f2s',\n",
              " 'nfnet_f3',\n",
              " 'nfnet_f3s',\n",
              " 'nfnet_f4',\n",
              " 'nfnet_f4s',\n",
              " 'nfnet_f5',\n",
              " 'nfnet_f5s',\n",
              " 'nfnet_f6',\n",
              " 'nfnet_f6s',\n",
              " 'nfnet_f7',\n",
              " 'nfnet_f7s',\n",
              " 'nfnet_l0',\n",
              " 'pit_b_224',\n",
              " 'pit_b_distilled_224',\n",
              " 'pit_s_224',\n",
              " 'pit_s_distilled_224',\n",
              " 'pit_ti_224',\n",
              " 'pit_ti_distilled_224',\n",
              " 'pit_xs_224',\n",
              " 'pit_xs_distilled_224',\n",
              " 'pnasnet5large',\n",
              " 'rednet26t',\n",
              " 'rednet50ts',\n",
              " 'regnetx_002',\n",
              " 'regnetx_004',\n",
              " 'regnetx_006',\n",
              " 'regnetx_008',\n",
              " 'regnetx_016',\n",
              " 'regnetx_032',\n",
              " 'regnetx_040',\n",
              " 'regnetx_064',\n",
              " 'regnetx_080',\n",
              " 'regnetx_120',\n",
              " 'regnetx_160',\n",
              " 'regnetx_320',\n",
              " 'regnety_002',\n",
              " 'regnety_004',\n",
              " 'regnety_006',\n",
              " 'regnety_008',\n",
              " 'regnety_016',\n",
              " 'regnety_032',\n",
              " 'regnety_040',\n",
              " 'regnety_064',\n",
              " 'regnety_080',\n",
              " 'regnety_120',\n",
              " 'regnety_160',\n",
              " 'regnety_320',\n",
              " 'repvgg_a2',\n",
              " 'repvgg_b0',\n",
              " 'repvgg_b1',\n",
              " 'repvgg_b1g4',\n",
              " 'repvgg_b2',\n",
              " 'repvgg_b2g4',\n",
              " 'repvgg_b3',\n",
              " 'repvgg_b3g4',\n",
              " 'res2net50_14w_8s',\n",
              " 'res2net50_26w_4s',\n",
              " 'res2net50_26w_6s',\n",
              " 'res2net50_26w_8s',\n",
              " 'res2net50_48w_2s',\n",
              " 'res2net101_26w_4s',\n",
              " 'res2next50',\n",
              " 'resmlp_12_224',\n",
              " 'resmlp_12_distilled_224',\n",
              " 'resmlp_24_224',\n",
              " 'resmlp_24_distilled_224',\n",
              " 'resmlp_36_224',\n",
              " 'resmlp_36_distilled_224',\n",
              " 'resmlp_big_24_224',\n",
              " 'resmlp_big_24_224_in22ft1k',\n",
              " 'resmlp_big_24_distilled_224',\n",
              " 'resnest14d',\n",
              " 'resnest26d',\n",
              " 'resnest50d',\n",
              " 'resnest50d_1s4x24d',\n",
              " 'resnest50d_4s2x40d',\n",
              " 'resnest101e',\n",
              " 'resnest200e',\n",
              " 'resnest269e',\n",
              " 'resnet18',\n",
              " 'resnet18d',\n",
              " 'resnet26',\n",
              " 'resnet26d',\n",
              " 'resnet26t',\n",
              " 'resnet34',\n",
              " 'resnet34d',\n",
              " 'resnet50',\n",
              " 'resnet50d',\n",
              " 'resnet50t',\n",
              " 'resnet51q',\n",
              " 'resnet61q',\n",
              " 'resnet101',\n",
              " 'resnet101d',\n",
              " 'resnet152',\n",
              " 'resnet152d',\n",
              " 'resnet200',\n",
              " 'resnet200d',\n",
              " 'resnetblur18',\n",
              " 'resnetblur50',\n",
              " 'resnetrs50',\n",
              " 'resnetrs101',\n",
              " 'resnetrs152',\n",
              " 'resnetrs200',\n",
              " 'resnetrs270',\n",
              " 'resnetrs350',\n",
              " 'resnetrs420',\n",
              " 'resnetv2_50',\n",
              " 'resnetv2_50d',\n",
              " 'resnetv2_50t',\n",
              " 'resnetv2_50x1_bit_distilled',\n",
              " 'resnetv2_50x1_bitm',\n",
              " 'resnetv2_50x1_bitm_in21k',\n",
              " 'resnetv2_50x3_bitm',\n",
              " 'resnetv2_50x3_bitm_in21k',\n",
              " 'resnetv2_101',\n",
              " 'resnetv2_101d',\n",
              " 'resnetv2_101x1_bitm',\n",
              " 'resnetv2_101x1_bitm_in21k',\n",
              " 'resnetv2_101x3_bitm',\n",
              " 'resnetv2_101x3_bitm_in21k',\n",
              " 'resnetv2_152',\n",
              " 'resnetv2_152d',\n",
              " 'resnetv2_152x2_bit_teacher',\n",
              " 'resnetv2_152x2_bit_teacher_384',\n",
              " 'resnetv2_152x2_bitm',\n",
              " 'resnetv2_152x2_bitm_in21k',\n",
              " 'resnetv2_152x4_bitm',\n",
              " 'resnetv2_152x4_bitm_in21k',\n",
              " 'resnext50_32x4d',\n",
              " 'resnext50d_32x4d',\n",
              " 'resnext101_32x4d',\n",
              " 'resnext101_32x8d',\n",
              " 'resnext101_64x4d',\n",
              " 'rexnet_100',\n",
              " 'rexnet_130',\n",
              " 'rexnet_150',\n",
              " 'rexnet_200',\n",
              " 'rexnetr_100',\n",
              " 'rexnetr_130',\n",
              " 'rexnetr_150',\n",
              " 'rexnetr_200',\n",
              " 'selecsls42',\n",
              " 'selecsls42b',\n",
              " 'selecsls60',\n",
              " 'selecsls60b',\n",
              " 'selecsls84',\n",
              " 'semnasnet_050',\n",
              " 'semnasnet_075',\n",
              " 'semnasnet_100',\n",
              " 'semnasnet_140',\n",
              " 'senet154',\n",
              " 'seresnet18',\n",
              " 'seresnet34',\n",
              " 'seresnet50',\n",
              " 'seresnet50t',\n",
              " 'seresnet101',\n",
              " 'seresnet152',\n",
              " 'seresnet152d',\n",
              " 'seresnet200d',\n",
              " 'seresnet269d',\n",
              " 'seresnext26d_32x4d',\n",
              " 'seresnext26t_32x4d',\n",
              " 'seresnext26tn_32x4d',\n",
              " 'seresnext50_32x4d',\n",
              " 'seresnext101_32x4d',\n",
              " 'seresnext101_32x8d',\n",
              " 'skresnet18',\n",
              " 'skresnet34',\n",
              " 'skresnet50',\n",
              " 'skresnet50d',\n",
              " 'skresnext50_32x4d',\n",
              " 'spnasnet_100',\n",
              " 'ssl_resnet18',\n",
              " 'ssl_resnet50',\n",
              " 'ssl_resnext50_32x4d',\n",
              " 'ssl_resnext101_32x4d',\n",
              " 'ssl_resnext101_32x8d',\n",
              " 'ssl_resnext101_32x16d',\n",
              " 'swin_base_patch4_window7_224',\n",
              " 'swin_base_patch4_window7_224_in22k',\n",
              " 'swin_base_patch4_window12_384',\n",
              " 'swin_base_patch4_window12_384_in22k',\n",
              " 'swin_large_patch4_window7_224',\n",
              " 'swin_large_patch4_window7_224_in22k',\n",
              " 'swin_large_patch4_window12_384',\n",
              " 'swin_large_patch4_window12_384_in22k',\n",
              " 'swin_small_patch4_window7_224',\n",
              " 'swin_tiny_patch4_window7_224',\n",
              " 'swinnet26t_256',\n",
              " 'swinnet50ts_256',\n",
              " 'swsl_resnet18',\n",
              " 'swsl_resnet50',\n",
              " 'swsl_resnext50_32x4d',\n",
              " 'swsl_resnext101_32x4d',\n",
              " 'swsl_resnext101_32x8d',\n",
              " 'swsl_resnext101_32x16d',\n",
              " 'tf_efficientnet_b0',\n",
              " 'tf_efficientnet_b0_ap',\n",
              " 'tf_efficientnet_b0_ns',\n",
              " 'tf_efficientnet_b1',\n",
              " 'tf_efficientnet_b1_ap',\n",
              " 'tf_efficientnet_b1_ns',\n",
              " 'tf_efficientnet_b2',\n",
              " 'tf_efficientnet_b2_ap',\n",
              " 'tf_efficientnet_b2_ns',\n",
              " 'tf_efficientnet_b3',\n",
              " 'tf_efficientnet_b3_ap',\n",
              " 'tf_efficientnet_b3_ns',\n",
              " 'tf_efficientnet_b4',\n",
              " 'tf_efficientnet_b4_ap',\n",
              " 'tf_efficientnet_b4_ns',\n",
              " 'tf_efficientnet_b5',\n",
              " 'tf_efficientnet_b5_ap',\n",
              " 'tf_efficientnet_b5_ns',\n",
              " 'tf_efficientnet_b6',\n",
              " 'tf_efficientnet_b6_ap',\n",
              " 'tf_efficientnet_b6_ns',\n",
              " 'tf_efficientnet_b7',\n",
              " 'tf_efficientnet_b7_ap',\n",
              " 'tf_efficientnet_b7_ns',\n",
              " 'tf_efficientnet_b8',\n",
              " 'tf_efficientnet_b8_ap',\n",
              " 'tf_efficientnet_cc_b0_4e',\n",
              " 'tf_efficientnet_cc_b0_8e',\n",
              " 'tf_efficientnet_cc_b1_8e',\n",
              " 'tf_efficientnet_el',\n",
              " 'tf_efficientnet_em',\n",
              " 'tf_efficientnet_es',\n",
              " 'tf_efficientnet_l2_ns',\n",
              " 'tf_efficientnet_l2_ns_475',\n",
              " 'tf_efficientnet_lite0',\n",
              " 'tf_efficientnet_lite1',\n",
              " 'tf_efficientnet_lite2',\n",
              " 'tf_efficientnet_lite3',\n",
              " 'tf_efficientnet_lite4',\n",
              " 'tf_efficientnetv2_b0',\n",
              " 'tf_efficientnetv2_b1',\n",
              " 'tf_efficientnetv2_b2',\n",
              " 'tf_efficientnetv2_b3',\n",
              " 'tf_efficientnetv2_l',\n",
              " 'tf_efficientnetv2_l_in21ft1k',\n",
              " 'tf_efficientnetv2_l_in21k',\n",
              " 'tf_efficientnetv2_m',\n",
              " 'tf_efficientnetv2_m_in21ft1k',\n",
              " 'tf_efficientnetv2_m_in21k',\n",
              " 'tf_efficientnetv2_s',\n",
              " 'tf_efficientnetv2_s_in21ft1k',\n",
              " 'tf_efficientnetv2_s_in21k',\n",
              " 'tf_inception_v3',\n",
              " 'tf_mixnet_l',\n",
              " 'tf_mixnet_m',\n",
              " 'tf_mixnet_s',\n",
              " 'tf_mobilenetv3_large_075',\n",
              " 'tf_mobilenetv3_large_100',\n",
              " 'tf_mobilenetv3_large_minimal_100',\n",
              " 'tf_mobilenetv3_small_075',\n",
              " 'tf_mobilenetv3_small_100',\n",
              " 'tf_mobilenetv3_small_minimal_100',\n",
              " 'tnt_b_patch16_224',\n",
              " 'tnt_s_patch16_224',\n",
              " 'tresnet_l',\n",
              " 'tresnet_l_448',\n",
              " 'tresnet_m',\n",
              " 'tresnet_m_448',\n",
              " 'tresnet_m_miil_in21k',\n",
              " 'tresnet_xl',\n",
              " 'tresnet_xl_448',\n",
              " 'tv_densenet121',\n",
              " 'tv_resnet34',\n",
              " 'tv_resnet50',\n",
              " 'tv_resnet101',\n",
              " 'tv_resnet152',\n",
              " 'tv_resnext50_32x4d',\n",
              " 'twins_pcpvt_base',\n",
              " 'twins_pcpvt_large',\n",
              " 'twins_pcpvt_small',\n",
              " 'twins_svt_base',\n",
              " 'twins_svt_large',\n",
              " 'twins_svt_small',\n",
              " 'vgg11',\n",
              " 'vgg11_bn',\n",
              " 'vgg13',\n",
              " 'vgg13_bn',\n",
              " 'vgg16',\n",
              " 'vgg16_bn',\n",
              " 'vgg19',\n",
              " 'vgg19_bn',\n",
              " 'visformer_small',\n",
              " 'visformer_tiny',\n",
              " 'vit_base_patch16_224',\n",
              " 'vit_base_patch16_224_in21k',\n",
              " 'vit_base_patch16_224_miil',\n",
              " 'vit_base_patch16_224_miil_in21k',\n",
              " 'vit_base_patch16_384',\n",
              " 'vit_base_patch32_224',\n",
              " 'vit_base_patch32_224_in21k',\n",
              " 'vit_base_patch32_384',\n",
              " 'vit_base_r26_s32_224',\n",
              " 'vit_base_r50_s16_224',\n",
              " 'vit_base_r50_s16_224_in21k',\n",
              " 'vit_base_r50_s16_384',\n",
              " 'vit_base_resnet26d_224',\n",
              " 'vit_base_resnet50_224_in21k',\n",
              " 'vit_base_resnet50_384',\n",
              " 'vit_base_resnet50d_224',\n",
              " 'vit_huge_patch14_224_in21k',\n",
              " 'vit_large_patch16_224',\n",
              " 'vit_large_patch16_224_in21k',\n",
              " 'vit_large_patch16_384',\n",
              " 'vit_large_patch32_224',\n",
              " 'vit_large_patch32_224_in21k',\n",
              " 'vit_large_patch32_384',\n",
              " 'vit_large_r50_s32_224',\n",
              " 'vit_large_r50_s32_224_in21k',\n",
              " 'vit_large_r50_s32_384',\n",
              " 'vit_small_patch16_224',\n",
              " 'vit_small_patch16_224_in21k',\n",
              " 'vit_small_patch16_384',\n",
              " 'vit_small_patch32_224',\n",
              " 'vit_small_patch32_224_in21k',\n",
              " 'vit_small_patch32_384',\n",
              " 'vit_small_r26_s32_224',\n",
              " 'vit_small_r26_s32_224_in21k',\n",
              " 'vit_small_r26_s32_384',\n",
              " 'vit_small_resnet26d_224',\n",
              " 'vit_small_resnet50d_s16_224',\n",
              " 'vit_tiny_patch16_224',\n",
              " 'vit_tiny_patch16_224_in21k',\n",
              " 'vit_tiny_patch16_384',\n",
              " 'vit_tiny_r_s16_p8_224',\n",
              " 'vit_tiny_r_s16_p8_224_in21k',\n",
              " 'vit_tiny_r_s16_p8_384',\n",
              " 'vovnet39a',\n",
              " 'vovnet57a',\n",
              " 'wide_resnet50_2',\n",
              " 'wide_resnet101_2',\n",
              " 'xception',\n",
              " 'xception41',\n",
              " 'xception65',\n",
              " 'xception71']"
            ]
          },
          "metadata": {},
          "execution_count": 13
        }
      ]
    },
    {
      "cell_type": "code",
      "metadata": {
        "colab": {
          "base_uri": "https://localhost:8080/"
        },
        "id": "_Q9XR_zsQEJb",
        "outputId": "4d71bf08-164e-46ee-f727-05d33448f0be"
      },
      "source": [
        "import torch.optim as optim\n",
        "\n",
        "name = 'tf_efficientnet_b0_ns'\n",
        "\n",
        "### <모델 고르기> (검색용) ##########################################################################################################\n",
        "### 학습에 사용할 인공지능 모델을 골라준다.\n",
        "### 아래 주석을 해제하여 사용\n",
        "### \n",
        "### PretrainedTransformer 사용하는 방법\n",
        "### 1. 아래 \"model = PretrainedTransformer..\" 가 있는 줄의 주석을 해제한다.\n",
        "### 2. 아까 위에서 <학습된 모델 확인하기>에서 출력된 모델 중 하나를 고른다.\n",
        "### 3. 아래 (학습된 모델 이름) 에 넣어준다.\n",
        "#####################################################################################################################################\n",
        "#model = PretrainedCNN(use_meta = True)                                          ### PretrainedCNN(resnet모델) 을 사용하는 경우\n",
        "#model = BaseCNN(num_filters=[4,5,6,7,8], use_meta = True)                                                ### BaseCNN 을 사용하는 경우\n",
        "#model = BaseMLP(use_meta = True)                                                ### BaseMLP 를 사용하는 경우\n",
        "model = PretrainedTransformer(model_name='seresnet50', use_meta = True) ### PretrainedTransformer 을 사용하는 경우 \n",
        "\n",
        "\n",
        "params_to_update = model.parameters()\n",
        "print(\"Params to learn:\")\n",
        "if args.feature_extract:\n",
        "    params_to_update = []\n",
        "    for name,param in model.named_parameters():\n",
        "        if param.requires_grad == True:\n",
        "            params_to_update.append(param)\n",
        "            print(\"\\t\",name)\n",
        "else:\n",
        "    for name,param in model.named_parameters():\n",
        "        if param.requires_grad == True:\n",
        "            print(\"\\t\",name)\n",
        "\n",
        "### <optimizer 설정하는 곳> (검색용) ########################################################################\n",
        "### 지금은 optim.Adam 으로 설정되어있음. optim.Adam 대신 다른 optimizer 알고리즘으로 바꿀수 있다.\n",
        "###\n",
        "### 다른 optimizer들 : optim.Adadelta , optim.Adagrad, optim.AdamW 등등\n",
        "### 다른 optimizer로 바꾸려면, 해당 optimizer 알고리즘에 필요한 인자들을 알맞게 넣어줘야 한다. \n",
        "### 인자를 넣는 형식 등 자세한 사용법은 https://pytorch.org/docs/stable/optim.html 에 가서 \n",
        "### Algorithms 부분 밑에 알고리즘을 클릭해서 들어가면 알 수 있음.\n",
        "####################################################################################################\n",
        "learning_rate = 1e-3\n",
        "optimizer = optim.Adam(params_to_update, lr=learning_rate, amsgrad=False)\n",
        "model = nn.DataParallel(model).cuda()"
      ],
      "execution_count": 14,
      "outputs": [
        {
          "output_type": "stream",
          "name": "stdout",
          "text": [
            "Params to learn:\n",
            "\t fc.weight\n",
            "\t fc.bias\n"
          ]
        }
      ]
    },
    {
      "cell_type": "code",
      "metadata": {
        "id": "t27Uw_dax4Ea"
      },
      "source": [
        "##5  추가한 코드셀\n",
        "''' 9. 학습되는 과정 속에서 검증 데이터에 대한 모델 성능을 확인하는 함수 정의 '''\n",
        "def evaluate(model, test_loader):\n",
        "    model.eval()\n",
        "    test_loss = 0\n",
        "    #correct = 0\n",
        "\n",
        "    with torch.no_grad():\n",
        "        for image, label in test_loader:\n",
        "            image = image.to(DEVICE)\n",
        "            label = label.to(DEVICE)\n",
        "            output = model(image)\n",
        "            test_loss += mse(output, label).item()\n",
        "    \n",
        "    test_loss /= (len(test_loader.dataset) / args.batch_size)\n",
        "\n",
        "    return test_loss"
      ],
      "execution_count": 15,
      "outputs": []
    },
    {
      "cell_type": "code",
      "metadata": {
        "id": "51j3bHixQFzc",
        "colab": {
          "base_uri": "https://localhost:8080/"
        },
        "outputId": "a3fc1769-d1c6-42ce-ba8a-8377c6be95fe"
      },
      "source": [
        "# # Train & val the model\n",
        "best_score = 0\n",
        "epochs = args.epochs\n",
        "\n",
        "\n",
        "\n",
        "for epoch in range(epochs):\n",
        "    labels, pred = train(model, optimizer, trainval_loader, None, train=True, val=False, epoch=epoch, grad_clip=True)\n",
        "\n",
        "    torch.save({\"model\": model.state_dict()}, \"efficient_model.pth\")"
      ],
      "execution_count": 16,
      "outputs": [
        {
          "output_type": "stream",
          "name": "stderr",
          "text": [
            "train E000:   1% 1/155 [00:16<41:44, 16.26s/it]"
          ]
        },
        {
          "output_type": "stream",
          "name": "stdout",
          "text": [
            "\tTrain Epoch:0 \tTrain Loss(RMSE): 43.950927\n"
          ]
        },
        {
          "output_type": "stream",
          "name": "stderr",
          "text": [
            "train E000:   7% 11/155 [00:32<05:30,  2.30s/it]"
          ]
        },
        {
          "output_type": "stream",
          "name": "stdout",
          "text": [
            "\tTrain Epoch:0 \tTrain Loss(RMSE): 43.400738\n"
          ]
        },
        {
          "output_type": "stream",
          "name": "stderr",
          "text": [
            "train E000:  14% 21/155 [00:52<05:14,  2.35s/it]"
          ]
        },
        {
          "output_type": "stream",
          "name": "stdout",
          "text": [
            "\tTrain Epoch:0 \tTrain Loss(RMSE): 43.104793\n"
          ]
        },
        {
          "output_type": "stream",
          "name": "stderr",
          "text": [
            "train E000:  20% 31/155 [01:13<04:51,  2.35s/it]"
          ]
        },
        {
          "output_type": "stream",
          "name": "stdout",
          "text": [
            "\tTrain Epoch:0 \tTrain Loss(RMSE): 34.780920\n"
          ]
        },
        {
          "output_type": "stream",
          "name": "stderr",
          "text": [
            "train E000:  26% 41/155 [01:34<04:28,  2.35s/it]"
          ]
        },
        {
          "output_type": "stream",
          "name": "stdout",
          "text": [
            "\tTrain Epoch:0 \tTrain Loss(RMSE): 32.882199\n"
          ]
        },
        {
          "output_type": "stream",
          "name": "stderr",
          "text": [
            "train E000:  33% 51/155 [01:55<04:07,  2.38s/it]"
          ]
        },
        {
          "output_type": "stream",
          "name": "stdout",
          "text": [
            "\tTrain Epoch:0 \tTrain Loss(RMSE): 28.749704\n"
          ]
        },
        {
          "output_type": "stream",
          "name": "stderr",
          "text": [
            "train E000:  39% 61/155 [02:16<03:47,  2.42s/it]"
          ]
        },
        {
          "output_type": "stream",
          "name": "stdout",
          "text": [
            "\tTrain Epoch:0 \tTrain Loss(RMSE): 20.055083\n"
          ]
        },
        {
          "output_type": "stream",
          "name": "stderr",
          "text": [
            "train E000:  46% 71/155 [02:38<03:25,  2.45s/it]"
          ]
        },
        {
          "output_type": "stream",
          "name": "stdout",
          "text": [
            "\tTrain Epoch:0 \tTrain Loss(RMSE): 26.042775\n"
          ]
        },
        {
          "output_type": "stream",
          "name": "stderr",
          "text": [
            "train E000:  52% 81/155 [02:59<03:00,  2.44s/it]"
          ]
        },
        {
          "output_type": "stream",
          "name": "stdout",
          "text": [
            "\tTrain Epoch:0 \tTrain Loss(RMSE): 24.502272\n"
          ]
        },
        {
          "output_type": "stream",
          "name": "stderr",
          "text": [
            "train E000:  59% 91/155 [03:21<02:37,  2.46s/it]"
          ]
        },
        {
          "output_type": "stream",
          "name": "stdout",
          "text": [
            "\tTrain Epoch:0 \tTrain Loss(RMSE): 20.763781\n"
          ]
        },
        {
          "output_type": "stream",
          "name": "stderr",
          "text": [
            "train E000:  65% 101/155 [03:44<02:16,  2.53s/it]"
          ]
        },
        {
          "output_type": "stream",
          "name": "stdout",
          "text": [
            "\tTrain Epoch:0 \tTrain Loss(RMSE): 23.791139\n"
          ]
        },
        {
          "output_type": "stream",
          "name": "stderr",
          "text": [
            "train E000:  72% 111/155 [04:07<01:53,  2.57s/it]"
          ]
        },
        {
          "output_type": "stream",
          "name": "stdout",
          "text": [
            "\tTrain Epoch:0 \tTrain Loss(RMSE): 24.945644\n"
          ]
        },
        {
          "output_type": "stream",
          "name": "stderr",
          "text": [
            "train E000:  78% 121/155 [04:29<01:27,  2.58s/it]"
          ]
        },
        {
          "output_type": "stream",
          "name": "stdout",
          "text": [
            "\tTrain Epoch:0 \tTrain Loss(RMSE): 17.697656\n"
          ]
        },
        {
          "output_type": "stream",
          "name": "stderr",
          "text": [
            "train E000:  85% 131/155 [04:52<01:02,  2.59s/it]"
          ]
        },
        {
          "output_type": "stream",
          "name": "stdout",
          "text": [
            "\tTrain Epoch:0 \tTrain Loss(RMSE): 26.104241\n"
          ]
        },
        {
          "output_type": "stream",
          "name": "stderr",
          "text": [
            "train E000:  91% 141/155 [05:16<00:37,  2.65s/it]"
          ]
        },
        {
          "output_type": "stream",
          "name": "stdout",
          "text": [
            "\tTrain Epoch:0 \tTrain Loss(RMSE): 24.122599\n"
          ]
        },
        {
          "output_type": "stream",
          "name": "stderr",
          "text": [
            "train E000:  97% 151/155 [05:40<00:10,  2.64s/it]"
          ]
        },
        {
          "output_type": "stream",
          "name": "stdout",
          "text": [
            "\tTrain Epoch:0 \tTrain Loss(RMSE): 20.018294\n"
          ]
        },
        {
          "output_type": "stream",
          "name": "stderr",
          "text": [
            "train E000: 100% 155/155 [05:58<00:00,  2.32s/it]\n",
            "train E001:   1% 1/155 [00:05<14:35,  5.68s/it]"
          ]
        },
        {
          "output_type": "stream",
          "name": "stdout",
          "text": [
            "\tTrain Epoch:1 \tTrain Loss(RMSE): 19.601461\n"
          ]
        },
        {
          "output_type": "stream",
          "name": "stderr",
          "text": [
            "train E001:   7% 11/155 [00:25<06:05,  2.54s/it]"
          ]
        },
        {
          "output_type": "stream",
          "name": "stdout",
          "text": [
            "\tTrain Epoch:1 \tTrain Loss(RMSE): 19.856480\n"
          ]
        },
        {
          "output_type": "stream",
          "name": "stderr",
          "text": [
            "train E001:  14% 22/155 [00:44<03:49,  1.72s/it]"
          ]
        },
        {
          "output_type": "stream",
          "name": "stdout",
          "text": [
            "\tTrain Epoch:1 \tTrain Loss(RMSE): 22.300979\n"
          ]
        },
        {
          "output_type": "stream",
          "name": "stderr",
          "text": [
            "train E001:  20% 31/155 [01:02<04:35,  2.22s/it]"
          ]
        },
        {
          "output_type": "stream",
          "name": "stdout",
          "text": [
            "\tTrain Epoch:1 \tTrain Loss(RMSE): 26.770028\n"
          ]
        },
        {
          "output_type": "stream",
          "name": "stderr",
          "text": [
            "train E001:  26% 41/155 [01:20<04:08,  2.18s/it]"
          ]
        },
        {
          "output_type": "stream",
          "name": "stdout",
          "text": [
            "\tTrain Epoch:1 \tTrain Loss(RMSE): 20.593048\n"
          ]
        },
        {
          "output_type": "stream",
          "name": "stderr",
          "text": [
            "train E001:  33% 51/155 [01:39<03:49,  2.21s/it]"
          ]
        },
        {
          "output_type": "stream",
          "name": "stdout",
          "text": [
            "\tTrain Epoch:1 \tTrain Loss(RMSE): 20.289851\n"
          ]
        },
        {
          "output_type": "stream",
          "name": "stderr",
          "text": [
            "train E001:  39% 61/155 [01:57<03:24,  2.18s/it]"
          ]
        },
        {
          "output_type": "stream",
          "name": "stdout",
          "text": [
            "\tTrain Epoch:1 \tTrain Loss(RMSE): 23.543798\n"
          ]
        },
        {
          "output_type": "stream",
          "name": "stderr",
          "text": [
            "train E001:  46% 71/155 [02:15<03:06,  2.22s/it]"
          ]
        },
        {
          "output_type": "stream",
          "name": "stdout",
          "text": [
            "\tTrain Epoch:1 \tTrain Loss(RMSE): 18.486740\n"
          ]
        },
        {
          "output_type": "stream",
          "name": "stderr",
          "text": [
            "train E001:  52% 81/155 [02:35<02:50,  2.30s/it]"
          ]
        },
        {
          "output_type": "stream",
          "name": "stdout",
          "text": [
            "\tTrain Epoch:1 \tTrain Loss(RMSE): 20.240865\n"
          ]
        },
        {
          "output_type": "stream",
          "name": "stderr",
          "text": [
            "train E001:  59% 91/155 [02:55<02:28,  2.33s/it]"
          ]
        },
        {
          "output_type": "stream",
          "name": "stdout",
          "text": [
            "\tTrain Epoch:1 \tTrain Loss(RMSE): 18.256472\n"
          ]
        },
        {
          "output_type": "stream",
          "name": "stderr",
          "text": [
            "train E001:  65% 101/155 [03:15<02:08,  2.38s/it]"
          ]
        },
        {
          "output_type": "stream",
          "name": "stdout",
          "text": [
            "\tTrain Epoch:1 \tTrain Loss(RMSE): 19.104035\n"
          ]
        },
        {
          "output_type": "stream",
          "name": "stderr",
          "text": [
            "train E001:  72% 111/155 [03:36<01:43,  2.36s/it]"
          ]
        },
        {
          "output_type": "stream",
          "name": "stdout",
          "text": [
            "\tTrain Epoch:1 \tTrain Loss(RMSE): 21.442974\n"
          ]
        },
        {
          "output_type": "stream",
          "name": "stderr",
          "text": [
            "train E001:  78% 121/155 [03:56<01:21,  2.40s/it]"
          ]
        },
        {
          "output_type": "stream",
          "name": "stdout",
          "text": [
            "\tTrain Epoch:1 \tTrain Loss(RMSE): 21.968097\n"
          ]
        },
        {
          "output_type": "stream",
          "name": "stderr",
          "text": [
            "train E001:  85% 131/155 [04:16<00:56,  2.36s/it]"
          ]
        },
        {
          "output_type": "stream",
          "name": "stdout",
          "text": [
            "\tTrain Epoch:1 \tTrain Loss(RMSE): 21.003252\n"
          ]
        },
        {
          "output_type": "stream",
          "name": "stderr",
          "text": [
            "train E001:  91% 141/155 [04:37<00:32,  2.33s/it]"
          ]
        },
        {
          "output_type": "stream",
          "name": "stdout",
          "text": [
            "\tTrain Epoch:1 \tTrain Loss(RMSE): 21.932916\n"
          ]
        },
        {
          "output_type": "stream",
          "name": "stderr",
          "text": [
            "train E001:  97% 151/155 [04:58<00:09,  2.33s/it]"
          ]
        },
        {
          "output_type": "stream",
          "name": "stdout",
          "text": [
            "\tTrain Epoch:1 \tTrain Loss(RMSE): 21.191368\n"
          ]
        },
        {
          "output_type": "stream",
          "name": "stderr",
          "text": [
            "train E001: 100% 155/155 [05:04<00:00,  1.96s/it]\n",
            "train E002:   1% 1/155 [00:05<14:53,  5.80s/it]"
          ]
        },
        {
          "output_type": "stream",
          "name": "stdout",
          "text": [
            "\tTrain Epoch:2 \tTrain Loss(RMSE): 22.380818\n"
          ]
        },
        {
          "output_type": "stream",
          "name": "stderr",
          "text": [
            "train E002:   7% 11/155 [00:25<05:50,  2.43s/it]"
          ]
        },
        {
          "output_type": "stream",
          "name": "stdout",
          "text": [
            "\tTrain Epoch:2 \tTrain Loss(RMSE): 21.895210\n"
          ]
        },
        {
          "output_type": "stream",
          "name": "stderr",
          "text": [
            "train E002:  14% 21/155 [00:44<05:16,  2.36s/it]"
          ]
        },
        {
          "output_type": "stream",
          "name": "stdout",
          "text": [
            "\tTrain Epoch:2 \tTrain Loss(RMSE): 18.728307\n"
          ]
        },
        {
          "output_type": "stream",
          "name": "stderr",
          "text": [
            "train E002:  20% 31/155 [01:03<04:57,  2.40s/it]"
          ]
        },
        {
          "output_type": "stream",
          "name": "stdout",
          "text": [
            "\tTrain Epoch:2 \tTrain Loss(RMSE): 18.209123\n"
          ]
        },
        {
          "output_type": "stream",
          "name": "stderr",
          "text": [
            "train E002:  27% 42/155 [01:22<03:18,  1.76s/it]"
          ]
        },
        {
          "output_type": "stream",
          "name": "stdout",
          "text": [
            "\tTrain Epoch:2 \tTrain Loss(RMSE): 18.757219\n"
          ]
        },
        {
          "output_type": "stream",
          "name": "stderr",
          "text": [
            "train E002:  34% 52/155 [01:41<02:53,  1.68s/it]"
          ]
        },
        {
          "output_type": "stream",
          "name": "stdout",
          "text": [
            "\tTrain Epoch:2 \tTrain Loss(RMSE): 18.435441\n"
          ]
        },
        {
          "output_type": "stream",
          "name": "stderr",
          "text": [
            "train E002:  40% 62/155 [02:00<02:33,  1.65s/it]"
          ]
        },
        {
          "output_type": "stream",
          "name": "stdout",
          "text": [
            "\tTrain Epoch:2 \tTrain Loss(RMSE): 20.259372\n"
          ]
        },
        {
          "output_type": "stream",
          "name": "stderr",
          "text": [
            "train E002:  46% 71/155 [02:18<03:20,  2.38s/it]"
          ]
        },
        {
          "output_type": "stream",
          "name": "stdout",
          "text": [
            "\tTrain Epoch:2 \tTrain Loss(RMSE): 16.131843\n"
          ]
        },
        {
          "output_type": "stream",
          "name": "stderr",
          "text": [
            "train E002:  52% 81/155 [02:38<02:55,  2.37s/it]"
          ]
        },
        {
          "output_type": "stream",
          "name": "stdout",
          "text": [
            "\tTrain Epoch:2 \tTrain Loss(RMSE): 24.425541\n"
          ]
        },
        {
          "output_type": "stream",
          "name": "stderr",
          "text": [
            "train E002:  59% 92/155 [02:57<01:48,  1.73s/it]"
          ]
        },
        {
          "output_type": "stream",
          "name": "stdout",
          "text": [
            "\tTrain Epoch:2 \tTrain Loss(RMSE): 27.266059\n"
          ]
        },
        {
          "output_type": "stream",
          "name": "stderr",
          "text": [
            "train E002:  65% 101/155 [03:17<02:14,  2.48s/it]"
          ]
        },
        {
          "output_type": "stream",
          "name": "stdout",
          "text": [
            "\tTrain Epoch:2 \tTrain Loss(RMSE): 25.232072\n"
          ]
        },
        {
          "output_type": "stream",
          "name": "stderr",
          "text": [
            "train E002:  72% 111/155 [03:36<01:50,  2.50s/it]"
          ]
        },
        {
          "output_type": "stream",
          "name": "stdout",
          "text": [
            "\tTrain Epoch:2 \tTrain Loss(RMSE): 23.716693\n"
          ]
        },
        {
          "output_type": "stream",
          "name": "stderr",
          "text": [
            "train E002:  78% 121/155 [03:56<01:25,  2.52s/it]"
          ]
        },
        {
          "output_type": "stream",
          "name": "stdout",
          "text": [
            "\tTrain Epoch:2 \tTrain Loss(RMSE): 20.396694\n"
          ]
        },
        {
          "output_type": "stream",
          "name": "stderr",
          "text": [
            "train E002:  85% 131/155 [04:16<00:59,  2.48s/it]"
          ]
        },
        {
          "output_type": "stream",
          "name": "stdout",
          "text": [
            "\tTrain Epoch:2 \tTrain Loss(RMSE): 20.084736\n"
          ]
        },
        {
          "output_type": "stream",
          "name": "stderr",
          "text": [
            "train E002:  92% 142/155 [04:36<00:23,  1.80s/it]"
          ]
        },
        {
          "output_type": "stream",
          "name": "stdout",
          "text": [
            "\tTrain Epoch:2 \tTrain Loss(RMSE): 24.412957\n"
          ]
        },
        {
          "output_type": "stream",
          "name": "stderr",
          "text": [
            "train E002:  97% 151/155 [04:55<00:09,  2.46s/it]"
          ]
        },
        {
          "output_type": "stream",
          "name": "stdout",
          "text": [
            "\tTrain Epoch:2 \tTrain Loss(RMSE): 19.683052\n"
          ]
        },
        {
          "output_type": "stream",
          "name": "stderr",
          "text": [
            "train E002: 100% 155/155 [05:00<00:00,  1.94s/it]\n",
            "train E003:   1% 1/155 [00:05<14:51,  5.79s/it]"
          ]
        },
        {
          "output_type": "stream",
          "name": "stdout",
          "text": [
            "\tTrain Epoch:3 \tTrain Loss(RMSE): 23.711950\n"
          ]
        },
        {
          "output_type": "stream",
          "name": "stderr",
          "text": [
            "train E003:   7% 11/155 [00:27<07:24,  3.09s/it]"
          ]
        },
        {
          "output_type": "stream",
          "name": "stdout",
          "text": [
            "\tTrain Epoch:3 \tTrain Loss(RMSE): 16.508482\n"
          ]
        },
        {
          "output_type": "stream",
          "name": "stderr",
          "text": [
            "train E003:  14% 21/155 [00:46<05:30,  2.46s/it]"
          ]
        },
        {
          "output_type": "stream",
          "name": "stdout",
          "text": [
            "\tTrain Epoch:3 \tTrain Loss(RMSE): 24.929258\n"
          ]
        },
        {
          "output_type": "stream",
          "name": "stderr",
          "text": [
            "train E003:  20% 31/155 [01:06<05:03,  2.45s/it]"
          ]
        },
        {
          "output_type": "stream",
          "name": "stdout",
          "text": [
            "\tTrain Epoch:3 \tTrain Loss(RMSE): 20.963181\n"
          ]
        },
        {
          "output_type": "stream",
          "name": "stderr",
          "text": [
            "train E003:  27% 42/155 [01:25<03:15,  1.73s/it]"
          ]
        },
        {
          "output_type": "stream",
          "name": "stdout",
          "text": [
            "\tTrain Epoch:3 \tTrain Loss(RMSE): 19.839180\n"
          ]
        },
        {
          "output_type": "stream",
          "name": "stderr",
          "text": [
            "train E003:  33% 51/155 [01:44<04:07,  2.38s/it]"
          ]
        },
        {
          "output_type": "stream",
          "name": "stdout",
          "text": [
            "\tTrain Epoch:3 \tTrain Loss(RMSE): 21.833898\n"
          ]
        },
        {
          "output_type": "stream",
          "name": "stderr",
          "text": [
            "train E003:  40% 62/155 [02:01<02:27,  1.59s/it]"
          ]
        },
        {
          "output_type": "stream",
          "name": "stdout",
          "text": [
            "\tTrain Epoch:3 \tTrain Loss(RMSE): 20.223421\n"
          ]
        },
        {
          "output_type": "stream",
          "name": "stderr",
          "text": [
            "train E003:  46% 71/155 [02:19<03:07,  2.23s/it]"
          ]
        },
        {
          "output_type": "stream",
          "name": "stdout",
          "text": [
            "\tTrain Epoch:3 \tTrain Loss(RMSE): 19.251417\n"
          ]
        },
        {
          "output_type": "stream",
          "name": "stderr",
          "text": [
            "train E003:  53% 82/155 [02:37<01:57,  1.61s/it]"
          ]
        },
        {
          "output_type": "stream",
          "name": "stdout",
          "text": [
            "\tTrain Epoch:3 \tTrain Loss(RMSE): 17.311382\n"
          ]
        },
        {
          "output_type": "stream",
          "name": "stderr",
          "text": [
            "train E003:  59% 91/155 [02:55<02:24,  2.26s/it]"
          ]
        },
        {
          "output_type": "stream",
          "name": "stdout",
          "text": [
            "\tTrain Epoch:3 \tTrain Loss(RMSE): 19.749296\n"
          ]
        },
        {
          "output_type": "stream",
          "name": "stderr",
          "text": [
            "train E003:  65% 101/155 [03:14<02:02,  2.27s/it]"
          ]
        },
        {
          "output_type": "stream",
          "name": "stdout",
          "text": [
            "\tTrain Epoch:3 \tTrain Loss(RMSE): 21.859613\n"
          ]
        },
        {
          "output_type": "stream",
          "name": "stderr",
          "text": [
            "train E003:  72% 111/155 [03:31<01:34,  2.15s/it]"
          ]
        },
        {
          "output_type": "stream",
          "name": "stdout",
          "text": [
            "\tTrain Epoch:3 \tTrain Loss(RMSE): 19.871936\n"
          ]
        },
        {
          "output_type": "stream",
          "name": "stderr",
          "text": [
            "train E003:  78% 121/155 [03:48<01:13,  2.17s/it]"
          ]
        },
        {
          "output_type": "stream",
          "name": "stdout",
          "text": [
            "\tTrain Epoch:3 \tTrain Loss(RMSE): 15.666626\n"
          ]
        },
        {
          "output_type": "stream",
          "name": "stderr",
          "text": [
            "train E003:  85% 131/155 [04:06<00:52,  2.19s/it]"
          ]
        },
        {
          "output_type": "stream",
          "name": "stdout",
          "text": [
            "\tTrain Epoch:3 \tTrain Loss(RMSE): 22.786264\n"
          ]
        },
        {
          "output_type": "stream",
          "name": "stderr",
          "text": [
            "train E003:  91% 141/155 [04:23<00:30,  2.19s/it]"
          ]
        },
        {
          "output_type": "stream",
          "name": "stdout",
          "text": [
            "\tTrain Epoch:3 \tTrain Loss(RMSE): 23.287814\n"
          ]
        },
        {
          "output_type": "stream",
          "name": "stderr",
          "text": [
            "train E003:  97% 151/155 [04:41<00:08,  2.17s/it]"
          ]
        },
        {
          "output_type": "stream",
          "name": "stdout",
          "text": [
            "\tTrain Epoch:3 \tTrain Loss(RMSE): 19.598389\n"
          ]
        },
        {
          "output_type": "stream",
          "name": "stderr",
          "text": [
            "train E003: 100% 155/155 [04:46<00:00,  1.85s/it]\n",
            "train E004:   1% 1/155 [00:05<13:55,  5.43s/it]"
          ]
        },
        {
          "output_type": "stream",
          "name": "stdout",
          "text": [
            "\tTrain Epoch:4 \tTrain Loss(RMSE): 15.823189\n"
          ]
        },
        {
          "output_type": "stream",
          "name": "stderr",
          "text": [
            "train E004:   7% 11/155 [00:23<05:35,  2.33s/it]"
          ]
        },
        {
          "output_type": "stream",
          "name": "stdout",
          "text": [
            "\tTrain Epoch:4 \tTrain Loss(RMSE): 20.336801\n"
          ]
        },
        {
          "output_type": "stream",
          "name": "stderr",
          "text": [
            "train E004:  14% 21/155 [00:41<04:59,  2.23s/it]"
          ]
        },
        {
          "output_type": "stream",
          "name": "stdout",
          "text": [
            "\tTrain Epoch:4 \tTrain Loss(RMSE): 22.471252\n"
          ]
        },
        {
          "output_type": "stream",
          "name": "stderr",
          "text": [
            "train E004:  21% 32/155 [00:59<03:19,  1.62s/it]"
          ]
        },
        {
          "output_type": "stream",
          "name": "stdout",
          "text": [
            "\tTrain Epoch:4 \tTrain Loss(RMSE): 21.345423\n"
          ]
        },
        {
          "output_type": "stream",
          "name": "stderr",
          "text": [
            "train E004:  26% 41/155 [01:16<04:07,  2.17s/it]"
          ]
        },
        {
          "output_type": "stream",
          "name": "stdout",
          "text": [
            "\tTrain Epoch:4 \tTrain Loss(RMSE): 24.040351\n"
          ]
        },
        {
          "output_type": "stream",
          "name": "stderr",
          "text": [
            "train E004:  33% 51/155 [01:34<03:37,  2.10s/it]"
          ]
        },
        {
          "output_type": "stream",
          "name": "stdout",
          "text": [
            "\tTrain Epoch:4 \tTrain Loss(RMSE): 17.668467\n"
          ]
        },
        {
          "output_type": "stream",
          "name": "stderr",
          "text": [
            "train E004:  39% 61/155 [01:52<03:22,  2.16s/it]"
          ]
        },
        {
          "output_type": "stream",
          "name": "stdout",
          "text": [
            "\tTrain Epoch:4 \tTrain Loss(RMSE): 21.348022\n"
          ]
        },
        {
          "output_type": "stream",
          "name": "stderr",
          "text": [
            "train E004:  46% 71/155 [02:10<03:03,  2.18s/it]"
          ]
        },
        {
          "output_type": "stream",
          "name": "stdout",
          "text": [
            "\tTrain Epoch:4 \tTrain Loss(RMSE): 25.352777\n"
          ]
        },
        {
          "output_type": "stream",
          "name": "stderr",
          "text": [
            "train E004:  52% 81/155 [02:28<02:41,  2.19s/it]"
          ]
        },
        {
          "output_type": "stream",
          "name": "stdout",
          "text": [
            "\tTrain Epoch:4 \tTrain Loss(RMSE): 24.877922\n"
          ]
        },
        {
          "output_type": "stream",
          "name": "stderr",
          "text": [
            "train E004:  59% 91/155 [02:47<02:22,  2.23s/it]"
          ]
        },
        {
          "output_type": "stream",
          "name": "stdout",
          "text": [
            "\tTrain Epoch:4 \tTrain Loss(RMSE): 20.126777\n"
          ]
        },
        {
          "output_type": "stream",
          "name": "stderr",
          "text": [
            "train E004:  65% 101/155 [03:05<01:58,  2.19s/it]"
          ]
        },
        {
          "output_type": "stream",
          "name": "stdout",
          "text": [
            "\tTrain Epoch:4 \tTrain Loss(RMSE): 20.212879\n"
          ]
        },
        {
          "output_type": "stream",
          "name": "stderr",
          "text": [
            "train E004:  72% 111/155 [03:24<01:37,  2.22s/it]"
          ]
        },
        {
          "output_type": "stream",
          "name": "stdout",
          "text": [
            "\tTrain Epoch:4 \tTrain Loss(RMSE): 17.809740\n"
          ]
        },
        {
          "output_type": "stream",
          "name": "stderr",
          "text": [
            "train E004:  78% 121/155 [03:43<01:17,  2.28s/it]"
          ]
        },
        {
          "output_type": "stream",
          "name": "stdout",
          "text": [
            "\tTrain Epoch:4 \tTrain Loss(RMSE): 22.772733\n"
          ]
        },
        {
          "output_type": "stream",
          "name": "stderr",
          "text": [
            "train E004:  85% 131/155 [04:02<00:53,  2.22s/it]"
          ]
        },
        {
          "output_type": "stream",
          "name": "stdout",
          "text": [
            "\tTrain Epoch:4 \tTrain Loss(RMSE): 17.516744\n"
          ]
        },
        {
          "output_type": "stream",
          "name": "stderr",
          "text": [
            "train E004:  91% 141/155 [04:21<00:30,  2.18s/it]"
          ]
        },
        {
          "output_type": "stream",
          "name": "stdout",
          "text": [
            "\tTrain Epoch:4 \tTrain Loss(RMSE): 19.551495\n"
          ]
        },
        {
          "output_type": "stream",
          "name": "stderr",
          "text": [
            "train E004:  97% 151/155 [04:39<00:08,  2.16s/it]"
          ]
        },
        {
          "output_type": "stream",
          "name": "stdout",
          "text": [
            "\tTrain Epoch:4 \tTrain Loss(RMSE): 24.137065\n"
          ]
        },
        {
          "output_type": "stream",
          "name": "stderr",
          "text": [
            "train E004: 100% 155/155 [04:45<00:00,  1.84s/it]\n"
          ]
        }
      ]
    },
    {
      "cell_type": "code",
      "metadata": {
        "id": "J2Ea9t1bQMJT",
        "colab": {
          "base_uri": "https://localhost:8080/"
        },
        "outputId": "6aa526b0-027f-438c-9d42-d60e563c89e0"
      },
      "source": [
        "# Test the model\n",
        "logs = torch.load(\"./efficient_model.pth\")\n",
        "model.load_state_dict(logs['model'])\n",
        "_, pred = train(model, optimizer, None, test_loader, train=False, val=True, epoch=0, grad_clip=False)\n",
        "print(\"Pawpularity score:{}\".format(pred.mean().item()))\n",
        "\n",
        "submission = pd.DataFrame({'Id':test_id,'Pawpularity':pred.squeeze(1)})"
      ],
      "execution_count": 17,
      "outputs": [
        {
          "output_type": "stream",
          "name": "stderr",
          "text": [
            "val E000: 100% 1/1 [00:06<00:00,  6.59s/it]"
          ]
        },
        {
          "output_type": "stream",
          "name": "stdout",
          "text": [
            "Pawpularity score:9.834451675415039\n"
          ]
        },
        {
          "output_type": "stream",
          "name": "stderr",
          "text": [
            "\n"
          ]
        }
      ]
    },
    {
      "cell_type": "code",
      "metadata": {
        "id": "UTjkH0BJXpUt",
        "colab": {
          "base_uri": "https://localhost:8080/",
          "height": 300
        },
        "outputId": "d15670e7-25f1-49fc-9d06-ffbad3e02dd2"
      },
      "source": [
        "submission"
      ],
      "execution_count": 18,
      "outputs": [
        {
          "output_type": "execute_result",
          "data": {
            "text/html": [
              "<div>\n",
              "<style scoped>\n",
              "    .dataframe tbody tr th:only-of-type {\n",
              "        vertical-align: middle;\n",
              "    }\n",
              "\n",
              "    .dataframe tbody tr th {\n",
              "        vertical-align: top;\n",
              "    }\n",
              "\n",
              "    .dataframe thead th {\n",
              "        text-align: right;\n",
              "    }\n",
              "</style>\n",
              "<table border=\"1\" class=\"dataframe\">\n",
              "  <thead>\n",
              "    <tr style=\"text-align: right;\">\n",
              "      <th></th>\n",
              "      <th>Id</th>\n",
              "      <th>Pawpularity</th>\n",
              "    </tr>\n",
              "  </thead>\n",
              "  <tbody>\n",
              "    <tr>\n",
              "      <th>0</th>\n",
              "      <td>4128bae22183829d2b5fea10effdb0c3</td>\n",
              "      <td>10.284771</td>\n",
              "    </tr>\n",
              "    <tr>\n",
              "      <th>1</th>\n",
              "      <td>43a2262d7738e3d420d453815151079e</td>\n",
              "      <td>8.728458</td>\n",
              "    </tr>\n",
              "    <tr>\n",
              "      <th>2</th>\n",
              "      <td>4e429cead1848a298432a0acad014c9d</td>\n",
              "      <td>9.028299</td>\n",
              "    </tr>\n",
              "    <tr>\n",
              "      <th>3</th>\n",
              "      <td>80bc3ccafcc51b66303c2c263aa38486</td>\n",
              "      <td>9.944561</td>\n",
              "    </tr>\n",
              "    <tr>\n",
              "      <th>4</th>\n",
              "      <td>8f49844c382931444e68dffbe20228f4</td>\n",
              "      <td>10.765824</td>\n",
              "    </tr>\n",
              "    <tr>\n",
              "      <th>5</th>\n",
              "      <td>b03f7041962238a7c9d6537e22f9b017</td>\n",
              "      <td>11.358576</td>\n",
              "    </tr>\n",
              "    <tr>\n",
              "      <th>6</th>\n",
              "      <td>c978013571258ed6d4637f6e8cc9d6a3</td>\n",
              "      <td>8.948625</td>\n",
              "    </tr>\n",
              "    <tr>\n",
              "      <th>7</th>\n",
              "      <td>e0de453c1bffc20c22b072b34b54e50f</td>\n",
              "      <td>9.616496</td>\n",
              "    </tr>\n",
              "  </tbody>\n",
              "</table>\n",
              "</div>"
            ],
            "text/plain": [
              "                                 Id  Pawpularity\n",
              "0  4128bae22183829d2b5fea10effdb0c3    10.284771\n",
              "1  43a2262d7738e3d420d453815151079e     8.728458\n",
              "2  4e429cead1848a298432a0acad014c9d     9.028299\n",
              "3  80bc3ccafcc51b66303c2c263aa38486     9.944561\n",
              "4  8f49844c382931444e68dffbe20228f4    10.765824\n",
              "5  b03f7041962238a7c9d6537e22f9b017    11.358576\n",
              "6  c978013571258ed6d4637f6e8cc9d6a3     8.948625\n",
              "7  e0de453c1bffc20c22b072b34b54e50f     9.616496"
            ]
          },
          "metadata": {},
          "execution_count": 18
        }
      ]
    },
    {
      "cell_type": "code",
      "metadata": {
        "id": "OEuaagupacpy",
        "colab": {
          "base_uri": "https://localhost:8080/",
          "height": 387
        },
        "outputId": "df49b55b-f833-4b7e-89bc-5fbe143a146f"
      },
      "source": [
        "##5\n",
        "# test loss를 plotting 하기 위한 코드#########\n",
        "plt.figure(figsize=(10,5))\n",
        "plt.title(\"Test Loss\")\n",
        "plt.plot(test_loss_record, label=\"model 1\")\n",
        "plt.xlabel(\"batch\")\n",
        "plt.ylabel(\"Loss\")\n",
        "plt.legend()\n",
        "plt.show()\n",
        "\n",
        "### <RMSE 평균값 구하는 곳 > (검색용) ################################################################\n",
        "### 지금은 RMSE 평균값 계산할때, RMSE 값들을 가장 마지막 \"10개\" 배치만을 이용하도록 되어있음\n",
        "### \n",
        "### RMSE 평균값 계산할때, RMSE 값들을 가장 마지막 \"n개\" 배치만을 이용하도록 하고 싶으면,\n",
        "### 아래 코드에서 \"-10\" 부분을, \"-n\" 으로 숫자를 바꿔주면 된다. \n",
        "#############################################################################################\n",
        "last_batch_avg_RMSE = sum(test_loss_record[-10:] ,0.0) / len(test_loss_record[-10:])\n",
        "print(\"\\nlast {} batch average RMSE = {}\".format(-(-10) ,last_batch_avg_RMSE))"
      ],
      "execution_count": 19,
      "outputs": [
        {
          "output_type": "display_data",
          "data": {
            "image/png": "[encoded data removed]",
            "text/plain": [
              "<Figure size 720x360 with 1 Axes>"
            ]
          },
          "metadata": {
            "needs_background": "light"
          }
        },
        {
          "output_type": "stream",
          "name": "stdout",
          "text": [
            "\n",
            "last 10 batch average RMSE = 21.370615401377286\n"
          ]
        }
      ]
    },
    {
      "cell_type": "code",
      "metadata": {
        "id": "cMz4DPKoKiYP"
      },
      "source": [
        "# <코드 수정 기록> \n",
        "# 2021.12.05(일) pm 3\n",
        "# loss 출력을 RMSE로 바꿈\n",
        "# 각 배치 마다 test loss 를 리스트로 저장해서, 학습완료후에 학습진행 그래프 출력되도록 코드 추가함\n",
        "# 평균 RMSE를 계산하기 위해서, 학습중 마지막 10개 배치의 RMSE의 평균값을 출력하도록 코드 추가함\n",
        "# 2021.12.05(일) pm 6\n",
        "# 하이퍼파라미터튜닝 할 수 있도록 중요 코드 부분 주석처리함"
      ],
      "execution_count": 20,
      "outputs": []
    },
    {
      "cell_type": "code",
      "metadata": {
        "id": "kj4eYxM7bDCB"
      },
      "source": [
        ""
      ],
      "execution_count": 20,
      "outputs": []
    }
  ]
}